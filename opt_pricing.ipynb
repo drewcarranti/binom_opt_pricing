{
 "cells": [
  {
   "cell_type": "markdown",
   "metadata": {},
   "source": [
    "### FE-620 FINAL PROJECT: BINOMIAL PRICING MODEL FOR SPY OPTIONS"
   ]
  },
  {
   "cell_type": "markdown",
   "metadata": {},
   "source": [
    "#### IMPORTS"
   ]
  },
  {
   "cell_type": "code",
   "execution_count": 3344,
   "metadata": {},
   "outputs": [],
   "source": [
    "import yfinance as yf\n",
    "import pandas as pd\n",
    "import numpy as np\n",
    "import copy\n",
    "import os"
   ]
  },
  {
   "cell_type": "markdown",
   "metadata": {},
   "source": [
    "#### PARAMETERIZATION FUNCTIONS"
   ]
  },
  {
   "cell_type": "code",
   "execution_count": 3345,
   "metadata": {},
   "outputs": [],
   "source": [
    "def _get_binom_rn_params(n : float, t : float, r : float, hvol : float, prec : int):\n",
    "    # calc tree params\n",
    "    dt = t/n\n",
    "    u = np.exp(hvol*np.sqrt(dt))\n",
    "    d = 1/u\n",
    "    p = (np.exp(r*dt)-d)/(u-d)\n",
    "    q = 1 - p\n",
    "    # print divider\n",
    "    print(\"-\"*80)\n",
    "    # print params\n",
    "    print((f\"dt: {round(dt, 2)}  | u: {round(u, 2)}  |  d: {round(d, 2)}  |  p: {round(p, 2)}  |  q: {round(q, 2)}  |  hvol: {round(hvol, 2)}\").center(80)) # 56 is len of divider\n",
    "    # print divider\n",
    "    print(\"-\"*80)\n",
    "    return t, dt, u, d, p, q"
   ]
  },
  {
   "cell_type": "code",
   "execution_count": 3346,
   "metadata": {},
   "outputs": [],
   "source": [
    "def _get_div_idx(div : dict, steps : int, maturity : float):\n",
    "    if div is None:\n",
    "        return None\n",
    "    # print dividends\n",
    "    print(f\"dividends: {str(div)}\".center(80))\n",
    "    # get \"todays\" date - time 0\n",
    "    start = list(div.keys())[0]\n",
    "    # copy dict so dont change during iteration\n",
    "    idxdiv = copy.deepcopy(div)\n",
    "    # replace start date with index 0 for start date\n",
    "    idxdiv[0] = idxdiv.pop(start)\n",
    "    # calc time length of each step\n",
    "    dt = maturity/steps\n",
    "    # get index of each div date \n",
    "    for date in list(div.keys()): # use list() to avoid dict size change during iteration\n",
    "        # skip start key/val pair\n",
    "        if date != start:\n",
    "            # calculate index aka days since start\n",
    "            idx = round((np.busday_count(np.datetime64(start), np.datetime64(date))/252)/dt)\n",
    "            # switch date with index\n",
    "            idxdiv[idx] = idxdiv.pop(date)\n",
    "    return idxdiv\n",
    "\n",
    "# explanation of dividend index calculation for varied time steps:\n",
    "# diff days / 252 = diff in years since start\n",
    "# dt = (t in years) / steps = time of step in years\n",
    "# diff in years / time of step in years = steps since start -> rounded = index of step\n"
   ]
  },
  {
   "cell_type": "markdown",
   "metadata": {},
   "source": [
    "#### PRICING FUNCTIONS"
   ]
  },
  {
   "cell_type": "code",
   "execution_count": 3347,
   "metadata": {},
   "outputs": [],
   "source": [
    "def _calc_maturity_value(stock : list, tree : list, s0 : float, k : float, n : int, t : float, u : float, d : float, prec : int, type : str, div : dict):\n",
    "    # call div idx func if divs - will return div to model for subsequent backprop call\n",
    "    idxdiv = _get_div_idx(div, n, t)\n",
    "    # if idxdiv is not None: print(f\"dividends @ indices: {idxdiv}\".center(80))\n",
    "    # print divider\n",
    "    print(\"-\"*80)\n",
    "    # print header for output\n",
    "    print(\"ADJUSTMENT & EXERCISE REPORT\".center(80))\n",
    "    # print divider\n",
    "    print(\"-\"*80)\n",
    "    # check if dividend paid at maturity by checking if # of total steps is in div dict\n",
    "    if idxdiv is not None and n in list(idxdiv.keys()):\n",
    "        # get div amount\n",
    "        div_adj = idxdiv[n]\n",
    "        # print div adj\n",
    "        print(f\"time {n}: dividend adjustment = {div_adj}\")\n",
    "    else:\n",
    "        div_adj = 0\n",
    "    # check option type\n",
    "    if type.lower() == \"call\":\n",
    "        # iterate over rows (price/nodes) @ maturity\n",
    "        for i in range(n, -1, -1):\n",
    "            # calc stock price @ maturity considering potential dividend\n",
    "            stock[n][i] = round((s0*(u**i)*(d**(n-i)))-div_adj, prec) # s = s0 x up % ^ # up moves x down % ^ # down moves - div adj\n",
    "            # print stock price before & after div adj\n",
    "            if div_adj != 0: print(f\"time {n}: before div adj @ ${stock[n][i]+div_adj} & after div adj @ ${stock[n][i]}\")\n",
    "            # calc option price @ maturity considering potential dividend\n",
    "            tree[n][i] = round(max(stock[n][i]-k, 0.0), prec) # max(s - d - k, 0)\n",
    "    elif type.lower() == \"put\":\n",
    "        # iterate over rows (price/nodes) @ maturity\n",
    "        for i in range(n, -1, -1):\n",
    "            # calc stock price @ maturity considering potential dividend\n",
    "            stock[n][i] = round((s0*(u**i)*(d**(n-i)))-div_adj, prec) # s = s0 x up % ^ # up moves x down % ^ # down moves - div adj\n",
    "            # print stock price before & after div adj\n",
    "            if div_adj != 0: print(f\"time {n}: before div adj @ ${stock[n][i]+div_adj} & after div adj @ ${stock[n][i]}\")\n",
    "            # calc option price @ maturity considering potential dividend\n",
    "            tree[n][i] = round(max(k-stock[n][i], 0.0), prec) # max(k - s, 0)\n",
    "    else:\n",
    "        raise ValueError(\"invalid option type - please enter 'call' or 'put'\")\n",
    "    return stock, tree, idxdiv\n",
    "    "
   ]
  },
  {
   "cell_type": "code",
   "execution_count": 3348,
   "metadata": {},
   "outputs": [],
   "source": [
    "def _back_prop(stock : list, tree : list, idxdiv : dict, s0 : float, k : float, n : int, dt : float, r : float, u : float, d : float, p : float, q : float, prec : int, type : str):\n",
    "    # iterate over cols (time)\n",
    "    for i in range(n-1, -1, -1):\n",
    "        # dividend idxs have already been identified in the maturity calculation so just have to check for them\n",
    "        # check if div paid at this time step\n",
    "        if idxdiv is not None and i in list(idxdiv.keys()) and i != 0:\n",
    "            # get div amount\n",
    "            div_adj = idxdiv[i]\n",
    "            # print div adj\n",
    "            print(f\"time {i}: dividend adjustment of - ${div_adj}\".center(80))\n",
    "        else:\n",
    "            div_adj = 0\n",
    "        # iterate over rows (price/nodes)\n",
    "        for j in range(i+1, -1, -1):\n",
    "            # fill in stock price at node\n",
    "            stock[i][j-1] = round((s0*(u**j)*(d**(i-j)))-div_adj, prec) # s = s0 x up % ^ # up moves x down % ^ # down moves\n",
    "            # find option price at node by discounting expected value of option price at next (later) time step\n",
    "            tree[i][j-1] = round(np.exp(-r*dt)*(p*tree[i+1][j]+q*tree[i+1][j-1]), prec)\n",
    "            if type.lower() == \"call\":\n",
    "                # check exercise for call (option price vs intrinsic value) \n",
    "                if max(tree[i][j-1], (stock[i][j-1] - k)) == (stock[i][j-1] - k):\n",
    "                    print(f\"time {i}: call exercised @ price ${stock[i][j-1]}\".center(80))\n",
    "                tree[i][j-1] = round(max(tree[i][j-1], (stock[i][j-1] - k)), 2) # max(s - k, 0)\n",
    "            else:\n",
    "                # check exercise for put (option price vs intrinsic value)\n",
    "                if max(tree[i][j-1], (k - stock[i][j-1])) == (stock[i][j-1] - k):\n",
    "                    print(f\"time {i}: put exercised @ price ${stock[i][j-1]}\".center(80))\n",
    "                tree[i][j-1] = round(max(tree[i][j-1], k - stock[i][j-1]), 2) # max(k - s, 0)\n",
    "    return stock, tree"
   ]
  },
  {
   "cell_type": "markdown",
   "metadata": {},
   "source": [
    "#### PRINTING FUNCTIONS"
   ]
  },
  {
   "cell_type": "code",
   "execution_count": 3349,
   "metadata": {},
   "outputs": [],
   "source": [
    "def _print_model(type : str):\n",
    "    # print divider\n",
    "    print(\"-\"*80)\n",
    "    # print model\n",
    "    print((f\"AMERICAN {type.upper()} OPTION - RISK-NEUTRAL BINOMIAL PRICING MODEL\").center(80)) # 56 is len of divider"
   ]
  },
  {
   "cell_type": "code",
   "execution_count": 3350,
   "metadata": {},
   "outputs": [],
   "source": [
    "def _print_stock(stock : list):\n",
    "    # print divider\n",
    "    print(\"-\"*80)\n",
    "    # print header\n",
    "    print(\"STOCK PRICE TREE\".center(80))\n",
    "    # print divider\n",
    "    print(\"-\"*80)\n",
    "    # print price\n",
    "    for time, prices in enumerate(stock, 0):\n",
    "        centered = str(prices).center(65) # 65 is len of divider after time #:\n",
    "        print(f\"time {time}: {centered}\")"
   ]
  },
  {
   "cell_type": "code",
   "execution_count": 3351,
   "metadata": {},
   "outputs": [],
   "source": [
    "def _print_tree(tree : list, type : str):\n",
    "    # print divider\n",
    "    print(\"-\"*80)\n",
    "    # print header\n",
    "    print(f\"{type.upper()} OPTION PRICE TREE\".center(80))\n",
    "    # print divider\n",
    "    print(\"-\"*80)\n",
    "    # print tree\n",
    "    for time, branch in enumerate(tree, 0):\n",
    "        # print centered row\n",
    "        centered = str(branch).center(65) # 65 is len of divider after time #:\n",
    "        print(f\"time {time}: {centered}\")\n",
    "    # print divider\n",
    "    print(\"-\"*80)"
   ]
  },
  {
   "cell_type": "markdown",
   "metadata": {},
   "source": [
    "#### HISTORICAL VOLATILITY FUNCTION"
   ]
  },
  {
   "cell_type": "code",
   "execution_count": 3352,
   "metadata": {},
   "outputs": [],
   "source": [
    "def _get_hvol(hist : str, start : str, prec : int):\n",
    "    # check if data is already downloaded\n",
    "    path = './spy_opt_hvol.csv'\n",
    "    if os.path.isfile(path):\n",
    "        spy = pd.read_csv(path)\n",
    "    # otherwise download data\n",
    "    else:\n",
    "        # download data\n",
    "        spy = yf.download('SPY', start=hist, end=end)\n",
    "        # save data\n",
    "        spy.to_csv(path, header=True)\n",
    "    # get adj close & convert index\n",
    "    spy.index = pd.to_datetime(spy['Date'])\n",
    "    spy = spy['Adj Close']\n",
    "    # convert dates to datetime\n",
    "    hist, start = pd.to_datetime(hist), pd.to_datetime(start)\n",
    "    # calc historical volatility for window & annualize\n",
    "    return ((spy.pct_change().loc[hist:start]).dropna().std()*np.sqrt(252)).round(prec)"
   ]
  },
  {
   "cell_type": "markdown",
   "metadata": {},
   "source": [
    "#### BINOMIAL PRICING MODEL FOR AMERICAN OPTION USING RISK NEUTRAL PROBABILITY"
   ]
  },
  {
   "cell_type": "code",
   "execution_count": 3353,
   "metadata": {},
   "outputs": [],
   "source": [
    "def binom_rn_pricer(s0 : float, k : float, n : int, t : float, r : float, hvol : float, prec : int, type : str, div : dict):\n",
    "    \"\"\"\n",
    "    s0: initial stock price\n",
    "    k: strike price\n",
    "    n: number of steps\n",
    "    t: time to maturity per annum\n",
    "    r: risk-free rate\n",
    "    hvol: historical volatility - window size = maturity of rfr\n",
    "    maturity: maturity of rate used (e.g, 1-month = 1, 3-month = 3, 6-month = 6, 1-year = 12)\n",
    "    type: option type (call or put)\n",
    "    div: dividend dictionary {start date : pricing date, div1 date : div1 #, div2 date : div2 #, ...}\n",
    "    \"\"\"\n",
    "    # print model\n",
    "    _print_model(type)\n",
    "    # get adjusted & calculated params\n",
    "    t, dt, u, d, p, q = _get_binom_rn_params(n, t, r, hvol, prec)\n",
    "    # initialize option tree\n",
    "    tree = [[0]*(i+1) for i in range(n+1)]\n",
    "    # initialize stock tree\n",
    "    stock = [[0]*(i+1) for i in range(n+1)]\n",
    "    # calc option prices at maturity\n",
    "    stock, tree, idxdiv = _calc_maturity_value(stock, tree, s0, k, n, t, u, d, prec, type, div)\n",
    "    # backpropagate\n",
    "    stock, tree = _back_prop(stock, tree, idxdiv, s0, k, n, dt, r, u, d, p, q, prec, type)\n",
    "    # print stock price tree\n",
    "    _print_stock(stock)\n",
    "    # print option tree\n",
    "    _print_tree(tree, type)\n",
    "    # return price and df\n",
    "    return tree[0][0], tree, stock"
   ]
  },
  {
   "cell_type": "markdown",
   "metadata": {},
   "source": [
    "#### PRICING TEST"
   ]
  },
  {
   "cell_type": "markdown",
   "metadata": {},
   "source": [
    "THEORETICAL DUMMY DATA"
   ]
  },
  {
   "cell_type": "code",
   "execution_count": 3354,
   "metadata": {},
   "outputs": [],
   "source": [
    "s0 = 100 # market price as of 6/1/23\n",
    "k = 101 # call strike\n",
    "n = 3 # if daily -> biz days to expiration (6/1/23 - 11/17/23) = 122\n",
    "t = 6/12 # tmt per annum\n",
    "r = .05 # 5% per annum\n",
    "hvol = .25 # 10% per annum\n",
    "prec = 2 # precision\n",
    "type = \"call\" # option type\n",
    "div = None # dividend yield"
   ]
  },
  {
   "cell_type": "code",
   "execution_count": 3355,
   "metadata": {},
   "outputs": [
    {
     "name": "stdout",
     "output_type": "stream",
     "text": [
      "--------------------------------------------------------------------------------\n",
      "           AMERICAN CALL OPTION - RISK-NEUTRAL BINOMIAL PRICING MODEL           \n",
      "--------------------------------------------------------------------------------\n",
      "     dt: 0.17  | u: 1.11  |  d: 0.9  |  p: 0.52  |  q: 0.48  |  hvol: 0.25      \n",
      "--------------------------------------------------------------------------------\n",
      "--------------------------------------------------------------------------------\n",
      "                          ADJUSTMENT & EXERCISE REPORT                          \n",
      "--------------------------------------------------------------------------------\n",
      "                     time 2: call exercised @ price $150.42                     \n",
      "                     time 2: call exercised @ price $122.65                     \n",
      "                     time 1: call exercised @ price $135.82                     \n",
      "                     time 0: call exercised @ price $122.65                     \n",
      "--------------------------------------------------------------------------------\n",
      "                                STOCK PRICE TREE                                \n",
      "--------------------------------------------------------------------------------\n",
      "time 0:                              [100.0]                             \n",
      "time 1:                           [110.75, 90.3]                         \n",
      "time 2:                       [100.0, 122.65, 81.54]                     \n",
      "time 3:                   [73.62, 90.3, 110.75, 135.82]                  \n",
      "--------------------------------------------------------------------------------\n",
      "                             CALL OPTION PRICE TREE                             \n",
      "--------------------------------------------------------------------------------\n",
      "time 0:                               [9.52]                             \n",
      "time 1:                           [11.07, 8.04]                          \n",
      "time 2:                        [0.0, 21.65, 16.73]                       \n",
      "time 3:                      [0.0, 0.0, 9.75, 34.82]                     \n",
      "--------------------------------------------------------------------------------\n"
     ]
    }
   ],
   "source": [
    "price, tree, stock = binom_rn_pricer(s0=s0, k=k, n=n, t=t, r=r, hvol=hvol, prec=prec, type=type, div=div)"
   ]
  },
  {
   "cell_type": "markdown",
   "metadata": {},
   "source": [
    "MARKET-LIKE DUMMY DATA"
   ]
  },
  {
   "cell_type": "code",
   "execution_count": 3356,
   "metadata": {},
   "outputs": [
    {
     "ename": "TypeError",
     "evalue": "_get_hvol() takes 3 positional arguments but 4 were given",
     "output_type": "error",
     "traceback": [
      "\u001b[0;31m---------------------------------------------------------------------------\u001b[0m",
      "\u001b[0;31mTypeError\u001b[0m                                 Traceback (most recent call last)",
      "\u001b[1;32m/Users/andrewcarranti/CODE/F23_CODE/FE_620/project/opt_pricing.ipynb Cell 23\u001b[0m line \u001b[0;36m1\n\u001b[1;32m     <a href='vscode-notebook-cell:/Users/andrewcarranti/CODE/F23_CODE/FE_620/project/opt_pricing.ipynb#Y261sZmlsZQ%3D%3D?line=9'>10</a>\u001b[0m n \u001b[39m=\u001b[39m \u001b[39m6\u001b[39m \u001b[39m# number of steps\u001b[39;00m\n\u001b[1;32m     <a href='vscode-notebook-cell:/Users/andrewcarranti/CODE/F23_CODE/FE_620/project/opt_pricing.ipynb#Y261sZmlsZQ%3D%3D?line=10'>11</a>\u001b[0m r \u001b[39m=\u001b[39m \u001b[39m.0517\u001b[39m \u001b[39m# feed in appropriate rate\u001b[39;00m\n\u001b[0;32m---> <a href='vscode-notebook-cell:/Users/andrewcarranti/CODE/F23_CODE/FE_620/project/opt_pricing.ipynb#Y261sZmlsZQ%3D%3D?line=11'>12</a>\u001b[0m hvol \u001b[39m=\u001b[39m _get_hvol(hist, start, end, prec) \u001b[39m# get historical volatility\u001b[39;00m\n\u001b[1;32m     <a href='vscode-notebook-cell:/Users/andrewcarranti/CODE/F23_CODE/FE_620/project/opt_pricing.ipynb#Y261sZmlsZQ%3D%3D?line=12'>13</a>\u001b[0m div \u001b[39m=\u001b[39m {start : \u001b[39m0\u001b[39m, \u001b[39m\"\u001b[39m\u001b[39m2023-06-16\u001b[39m\u001b[39m\"\u001b[39m : \u001b[39m1.64\u001b[39m, \u001b[39m\"\u001b[39m\u001b[39m2023-09-15\u001b[39m\u001b[39m\"\u001b[39m : \u001b[39m1.58\u001b[39m} \u001b[39m# use ex-dividend dates\u001b[39;00m\n",
      "\u001b[0;31mTypeError\u001b[0m: _get_hvol() takes 3 positional arguments but 4 were given"
     ]
    }
   ],
   "source": [
    "type = \"call\" # option type\n",
    "hist = '2022-06-01' # 1 year of historical data\n",
    "start = '2023-06-01' # observation date (i.e, t = 0)\n",
    "end = '2023-11-17' # expiration date (i.e, t = n)\n",
    "tdays = np.busday_count(np.datetime64(start), np.datetime64(end))\n",
    "t = tdays / 252 # tmt per annum\n",
    "prec = 2 # precision\n",
    "s0 = 421.82 # market price as of 6/1/23\n",
    "k = 455 # strike\n",
    "n = 6 # number of steps\n",
    "r = .0517 # feed in appropriate rate\n",
    "hvol = _get_hvol(hist, start, prec) # get historical volatility\n",
    "div = {start : 0, \"2023-06-16\" : 1.64, \"2023-09-15\" : 1.58} # use ex-dividend dates"
   ]
  },
  {
   "cell_type": "code",
   "execution_count": null,
   "metadata": {},
   "outputs": [
    {
     "name": "stdout",
     "output_type": "stream",
     "text": [
      "--------------------------------------------------------------------------------\n",
      "           AMERICAN CALL OPTION - RISK-NEUTRAL BINOMIAL PRICING MODEL           \n",
      "--------------------------------------------------------------------------------\n",
      "     dt: 0.08  | u: 1.07  |  d: 0.93  |  p: 0.51  |  q: 0.49  |  hvol: 0.25     \n",
      "--------------------------------------------------------------------------------\n",
      "--------------------------------------------------------------------------------\n",
      "                          ADJUSTMENT & EXERCISE REPORT                          \n",
      "--------------------------------------------------------------------------------\n",
      "                     time 5: call exercised @ price $692.03                     \n",
      "                     time 5: call exercised @ price $600.76                     \n",
      "                     time 5: call exercised @ price $521.52                     \n",
      "                     time 4: call exercised @ price $644.78                     \n",
      "                     time 3: call exercised @ price $600.76                     \n",
      "                     time 2: call exercised @ price $559.74                     \n",
      "                     time 1: call exercised @ price $521.52                     \n",
      "                     time 0: call exercised @ price $485.91                     \n",
      "--------------------------------------------------------------------------------\n",
      "                                STOCK PRICE TREE                                \n",
      "--------------------------------------------------------------------------------\n",
      "time 0:                              [421.82]                            \n",
      "time 1:                          [452.73, 393.02]                        \n",
      "time 2:                      [421.82, 485.91, 366.18]                    \n",
      "time 3:                  [393.02, 452.73, 521.52, 341.18]                \n",
      "time 4:              [366.18, 421.82, 485.91, 559.74, 317.88]            \n",
      "time 5:          [341.18, 393.02, 452.73, 521.52, 600.76, 296.18]        \n",
      "time 6:      [275.96, 317.88, 366.18, 421.82, 485.91, 559.74, 644.78]    \n",
      "--------------------------------------------------------------------------------\n",
      "                             CALL OPTION PRICE TREE                             \n",
      "--------------------------------------------------------------------------------\n",
      "time 0:                              [18.42]                             \n",
      "time 1:                           [26.94, 9.65]                          \n",
      "time 2:                        [8.8, 44.48, 10.62]                       \n",
      "time 3:                     [0.0, 17.27, 70.81, 21.83]                   \n",
      "time 4:                  [0.0, 0.0, 33.89, 106.62, 44.89]                \n",
      "time 5:                [0.0, 0.0, 0.0, 66.52, 145.76, 92.3]              \n",
      "time 6:            [0.0, 0.0, 0.0, 0.0, 30.91, 104.74, 189.78]           \n",
      "--------------------------------------------------------------------------------\n"
     ]
    }
   ],
   "source": [
    "price, tree, stock = binom_rn_pricer(s0=s0, k=k, n=n, t=t, r=r, hvol=hvol, prec=prec, type=type, div=div)"
   ]
  },
  {
   "cell_type": "markdown",
   "metadata": {},
   "source": [
    "#### READ & PULL DATA"
   ]
  },
  {
   "cell_type": "code",
   "execution_count": null,
   "metadata": {},
   "outputs": [],
   "source": [
    "call = pd.read_csv('spy_call.csv')\n",
    "put = pd.read_csv('spy_put.csv')\n",
    "# marketdata = pd.read_excel('dataFramePutCall.xlsx')"
   ]
  },
  {
   "cell_type": "code",
   "execution_count": null,
   "metadata": {},
   "outputs": [],
   "source": [
    "def preprocess(df, type):\n",
    "    df = df.copy()\n",
    "    # convert date to datetime & set as indexs\n",
    "    df['Date'] = pd.to_datetime(df['Date'], format='%m/%d/%y')\n",
    "    df.set_index('Date', inplace=True)\n",
    "    # set opt char for map\n",
    "    if type == 'call':\n",
    "        char = 'C'\n",
    "    else:\n",
    "        char = 'P'\n",
    "    # create column name mapping\n",
    "    column_mapping = {\n",
    "        f'SPY US 11/17/23 {char}455 Equity' : f'{type}',\n",
    "        'SPY US Equity' : 'stock',\n",
    "        'Implied Volatility': 'iv',\n",
    "        'TSFR1M Index - SOFR 1M': '1m',\n",
    "        'SMAVG (50) - 1M': 'ravg1m',\n",
    "        'TSFR3M Index - SOFR 3M': '3m',\n",
    "        'SMAVG (50) -3M': 'ravg3m',\n",
    "        'TSFR6M Index - SOFR 6M': '6m',\n",
    "        'SMAVG (50) - 6M': 'ravg6m',\n",
    "        'TSFR12M Index - SOFR 12M': '12m',\n",
    "        'SMAVG (50) -12M': 'ravg12m',\n",
    "    }\n",
    "    # drop other columns\n",
    "    df = df[df.columns[df.columns.isin(column_mapping.keys())]]\n",
    "    # rename columns\n",
    "    df.rename(columns=column_mapping, inplace=True)\n",
    "    # return df\n",
    "    return df"
   ]
  },
  {
   "cell_type": "code",
   "execution_count": null,
   "metadata": {},
   "outputs": [],
   "source": [
    "call = preprocess(call, 'call')\n",
    "put = preprocess(put, 'put')"
   ]
  },
  {
   "cell_type": "code",
   "execution_count": null,
   "metadata": {},
   "outputs": [
    {
     "ename": "NameError",
     "evalue": "name 'marketdata' is not defined",
     "output_type": "error",
     "traceback": [
      "\u001b[0;31m---------------------------------------------------------------------------\u001b[0m",
      "\u001b[0;31mNameError\u001b[0m                                 Traceback (most recent call last)",
      "\u001b[1;32m/Users/andrewcarranti/CODE/F23_CODE/FE_620/project/opt_pricing.ipynb Cell 29\u001b[0m line \u001b[0;36m1\n\u001b[0;32m----> <a href='vscode-notebook-cell:/Users/andrewcarranti/CODE/F23_CODE/FE_620/project/opt_pricing.ipynb#Y300sZmlsZQ%3D%3D?line=0'>1</a>\u001b[0m marketdata\u001b[39m.\u001b[39mdescribe()\n",
      "\u001b[0;31mNameError\u001b[0m: name 'marketdata' is not defined"
     ]
    }
   ],
   "source": [
    "# marketdata.describe()"
   ]
  },
  {
   "cell_type": "code",
   "execution_count": 3357,
   "metadata": {},
   "outputs": [],
   "source": [
    "# put.describe()"
   ]
  },
  {
   "cell_type": "markdown",
   "metadata": {},
   "source": [
    "### SET PARAMETERS SENSITIVITY ANALYSIS"
   ]
  },
  {
   "cell_type": "markdown",
   "metadata": {},
   "source": [
    "PARAMS SPECIFIED FOR RUNS WHERE HELD CONSTANT"
   ]
  },
  {
   "cell_type": "code",
   "execution_count": null,
   "metadata": {},
   "outputs": [],
   "source": []
  },
  {
   "cell_type": "markdown",
   "metadata": {},
   "source": [
    "HISTORICAL VOL TIME WINDOW"
   ]
  },
  {
   "cell_type": "code",
   "execution_count": null,
   "metadata": {},
   "outputs": [],
   "source": [
    "\n",
    "# create lists to store results\n",
    "new_df_with_data = call.reset_index()\n",
    "algop = []\n",
    "marketp = []\n",
    "hvol = []\n",
    "# get last 6 months, last 3 months, and last 1 month\n",
    "hvol6 = np.busday_offset(input_date, 6, roll='forward') # forward = next biz days for non-biz day calc\n",
    "hvol3 = np.busday_offset(input_date, 9, roll='forward')\n",
    "hvol1 = np.busday_offset(input_date, 11, roll='forward')\n",
    "# add string versions to dict\n",
    "hvols = {'hvol6' : hvol6.strftime('%Y-%m-%d'), 'hvol3' : hvol3.strftime('%Y-%m-%d'), 'hvol1' : hvol1.strftime('%Y-%m-%d')}\n",
    "# price for each hvol\n",
    "for key, date in hvols.items():\n",
    "    _get_hvol(date, start, prec)\n",
    "\n",
    "\n",
    "\n",
    "# # # NEED TO SET THE PARAMS FOR RESULTS THAT HOLDING CONSTANT  TODO^\n",
    "# # # AND THEN ITERATE OVER THE HVOLS TO GET THE PRICES\n",
    "\n",
    "# def _get_hvol(hist : str, start : str, prec : int):"
   ]
  },
  {
   "cell_type": "markdown",
   "metadata": {},
   "source": [
    "IV WINDOW"
   ]
  },
  {
   "cell_type": "code",
   "execution_count": null,
   "metadata": {},
   "outputs": [],
   "source": []
  },
  {
   "cell_type": "markdown",
   "metadata": {},
   "source": [
    "RATES"
   ]
  },
  {
   "cell_type": "code",
   "execution_count": null,
   "metadata": {},
   "outputs": [
    {
     "data": {
      "text/plain": [
       "[5.24, 4.77, 5.08, 5.34, 5.4]"
      ]
     },
     "execution_count": 3217,
     "metadata": {},
     "output_type": "execute_result"
    }
   ],
   "source": [
    "# call.ravg12m.plot()\n",
    "def get_rates(df, type):\n",
    "    rates = []\n",
    "    for stat, value in result.items():\n",
    "        if stat == 'count' or stat == 'std' or stat == 'max':\n",
    "            continue\n",
    "        rates.append(round(value, prec))\n",
    "    # return rates\n",
    "    return rates\n",
    "\n",
    "get_rates(call, 'call')"
   ]
  },
  {
   "cell_type": "markdown",
   "metadata": {},
   "source": [
    "PRICE TREE PARAMETERS USING HISTORICAL"
   ]
  },
  {
   "cell_type": "code",
   "execution_count": null,
   "metadata": {},
   "outputs": [],
   "source": [
    "def calculate_up_down_params(df):\n",
    "    up_moves = returns[returns > 0]\n",
    "    down_moves = returns[returns < 0]\n",
    "\n",
    "    avg_up_move = up_moves.mean()\n",
    "    avg_down_move = down_moves.mean()\n",
    "\n",
    "    prob_up_move = len(up_moves) / len(returns)\n",
    "    prob_down_move = len(down_moves) / len(returns)\n",
    "\n",
    "    return avg_up_move, avg_down_move, prob_up_move, prob_down_move\n"
   ]
  },
  {
   "cell_type": "code",
   "execution_count": null,
   "metadata": {},
   "outputs": [],
   "source": [
    "\n",
    "# load data globally\n",
    "path = './spy_opt_hvol.csv'\n",
    "spy = pd.read_csv(path)\n",
    "\n",
    "# get adj close & convert index\n",
    "spy.index = pd.to_datetime(spy['Date'])\n",
    "spy = spy['Adj Close']\n"
   ]
  },
  {
   "cell_type": "markdown",
   "metadata": {},
   "source": [
    "- check pricing model (iterate through each day from t=1 to t=T pricing using that day's tmt & s0 (feed in daily rate but run on different sofrs] to see how tmt & rate affects accuracy)\n",
    "- plot both model's stock prices vs market, model's option prices vs market, \n",
    "- run sensitivty analysis and save results for graphs"
   ]
  },
  {
   "cell_type": "markdown",
   "metadata": {},
   "source": [
    "^^^ basically just need to turn the 'INITIALIZE MODEL PARAMETERS' into variable and feed in stock data "
   ]
  }
 ],
 "metadata": {
  "kernelspec": {
   "display_name": "Python 3",
   "language": "python",
   "name": "python3"
  },
  "language_info": {
   "codemirror_mode": {
    "name": "ipython",
    "version": 3
   },
   "file_extension": ".py",
   "mimetype": "text/x-python",
   "name": "python",
   "nbconvert_exporter": "python",
   "pygments_lexer": "ipython3",
   "version": "3.9.6"
  }
 },
 "nbformat": 4,
 "nbformat_minor": 2
}
