{
 "cells": [
  {
   "cell_type": "markdown",
   "metadata": {},
   "source": [
    "### BINOMIAL PRICING MODEL FOR SPY CALL OPTION\n",
    "#### FE-620 FINAL PROJECT"
   ]
  },
  {
   "cell_type": "markdown",
   "metadata": {},
   "source": [
    "IMPORTS"
   ]
  },
  {
   "cell_type": "code",
   "execution_count": 73,
   "metadata": {},
   "outputs": [],
   "source": [
    "import yfinance as yf\n",
    "import pandas as pd\n",
    "import numpy as np"
   ]
  },
  {
   "cell_type": "markdown",
   "metadata": {},
   "source": [
    "READ & PULL DATA"
   ]
  },
  {
   "cell_type": "code",
   "execution_count": 74,
   "metadata": {},
   "outputs": [],
   "source": [
    "spyopt = pd.read_excel('spy_opt_data.xlsx')\n"
   ]
  },
  {
   "cell_type": "markdown",
   "metadata": {},
   "source": [
    "IDENTIFY HISTORICAL VOLATILITY"
   ]
  },
  {
   "cell_type": "code",
   "execution_count": 75,
   "metadata": {},
   "outputs": [
    {
     "name": "stdout",
     "output_type": "stream",
     "text": [
      "[*********************100%%**********************]  1 of 1 completed"
     ]
    },
    {
     "name": "stderr",
     "output_type": "stream",
     "text": [
      "\n",
      "1 Failed download:\n"
     ]
    },
    {
     "name": "stderr",
     "output_type": "stream",
     "text": [
      "['SPY']: ValueError('unconverted data remains: 1')\n"
     ]
    },
    {
     "name": "stdout",
     "output_type": "stream",
     "text": [
      "\n"
     ]
    },
    {
     "data": {
      "text/plain": [
       "Series([], Name: Adj Close, dtype: float64)"
      ]
     },
     "execution_count": 75,
     "metadata": {},
     "output_type": "execute_result"
    }
   ],
   "source": [
    "spy = yf.download('SPY', start='2023-01-01', end='2023-11-71')\n",
    "spy = spy['Adj Close']\n",
    "spy.head()"
   ]
  },
  {
   "cell_type": "code",
   "execution_count": 76,
   "metadata": {},
   "outputs": [],
   "source": [
    "def binom_call(s0 : float, k : float, n : float, t : float, r : float, sig : float):\n",
    "    # calc tree params\n",
    "    dt = t/n\n",
    "    u = np.exp(sig*np.sqrt(dt))\n",
    "    d = 1/u\n",
    "    p = (np.exp(r*dt) - d)/(u - d)\n",
    "    q = 1 - p\n",
    "    # initialize tree\n",
    "    c = np.zeros((n+1, n+1))\n",
    "    # calc option prices at maturity\n",
    "    for i in range(n+1):\n",
    "        c[n, i] = max(s0*u**i*d**(n-i)-k, 0)\n",
    "    # backpropagate\n",
    "    for i in range(n-1, -1, -1):\n",
    "        for j in range(i+1):\n",
    "            c[i, j] = np.exp(-r*dt)*(p*c[i+1, j+1] + q*c[i+1, j])\n",
    "            # check exercise\n",
    "            c[i, j] = max(c[i, j], s0*u**j*d**(i-j)-k)\n",
    "    # return price and df\n",
    "    return c[0, 0], pd.DataFrame(c)"
   ]
  },
  {
   "cell_type": "markdown",
   "metadata": {},
   "source": [
    "INITIALIZE MODEL PARAMETERS"
   ]
  },
  {
   "cell_type": "code",
   "execution_count": 77,
   "metadata": {},
   "outputs": [],
   "source": [
    "s0 = 421.82 # market price as of 6/1/23\n",
    "k = 455 # call strike\n",
    "n = 122 # biz days to expiration (6/1/23 - 11/17/23)\n",
    "t = 122/252 # tmt per annum\n",
    "r = 5.27638/100 # 3M SOFR as of 6/1/23\n",
    "sig = 0"
   ]
  },
  {
   "cell_type": "code",
   "execution_count": 78,
   "metadata": {},
   "outputs": [
    {
     "name": "stdout",
     "output_type": "stream",
     "text": [
      "price:  8.629081997392712\n",
      "pricedf:            0          1          2          3\n",
      "0  8.629082   0.000000   0.000000   0.000000\n",
      "1  2.632779  15.040594   0.000000   0.000000\n",
      "2  0.000000   5.439915  25.314485   0.000000\n",
      "3  0.000000   0.000000  11.240090  40.398246\n"
     ]
    }
   ],
   "source": [
    "price, pricedf = binom_call(s0=100, k=101, n=3, t=1, r=.01, sig=0.2)\n",
    "print(\"price: \", price)\n",
    "print(\"pricedf: \", pricedf)"
   ]
  },
  {
   "cell_type": "code",
   "execution_count": null,
   "metadata": {},
   "outputs": [],
   "source": []
  }
 ],
 "metadata": {
  "kernelspec": {
   "display_name": "Python 3",
   "language": "python",
   "name": "python3"
  },
  "language_info": {
   "codemirror_mode": {
    "name": "ipython",
    "version": 3
   },
   "file_extension": ".py",
   "mimetype": "text/x-python",
   "name": "python",
   "nbconvert_exporter": "python",
   "pygments_lexer": "ipython3",
   "version": "3.9.6"
  }
 },
 "nbformat": 4,
 "nbformat_minor": 2
}
