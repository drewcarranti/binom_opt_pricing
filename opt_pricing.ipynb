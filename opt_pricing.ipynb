{
 "cells": [
  {
   "cell_type": "markdown",
   "metadata": {},
   "source": [
    "### BINOMIAL PRICING MODEL FOR SPY CALL OPTION\n",
    "#### FE-620 FINAL PROJECT"
   ]
  },
  {
   "cell_type": "markdown",
   "metadata": {},
   "source": [
    "IMPORTS"
   ]
  },
  {
   "cell_type": "code",
   "execution_count": 1542,
   "metadata": {},
   "outputs": [],
   "source": [
    "import yfinance as yf\n",
    "import pandas as pd\n",
    "import numpy as np\n",
    "import os"
   ]
  },
  {
   "cell_type": "markdown",
   "metadata": {},
   "source": [
    "BINOMIAL PRICING MODEL FOR AMERICAN OPTION USING RISK NEUTRAL PROBABILITY"
   ]
  },
  {
   "cell_type": "code",
   "execution_count": 1543,
   "metadata": {},
   "outputs": [],
   "source": [
    "def _get_binom_rn_params(n : float, t : float, r : float, hvol : float, prec : int):\n",
    "    # calc tree params\n",
    "    dt = t/n\n",
    "    u = np.exp(hvol*np.sqrt(dt))\n",
    "    d = 1/u\n",
    "    p = (np.exp(r*dt)-d)/(u-d)\n",
    "    q = 1 - p\n",
    "    # print params\n",
    "    print((f\"dt: {round(dt, 2)}  | u: {round(u, 2)}  |  d: {round(d, 2)}  |  p: {round(p, 2)}  |  q: {round(q, 2)}\").center(56)) # 56 is len of divider\n",
    "    # print divider\n",
    "    print(\"-\"*55)\n",
    "    return t, dt, u, d, p, q"
   ]
  },
  {
   "cell_type": "code",
   "execution_count": 1544,
   "metadata": {},
   "outputs": [],
   "source": [
    "def _print_model(type : str):\n",
    "    # print divider\n",
    "    print(\"-\"*55)\n",
    "    # print model\n",
    "    print((f\"american {type} opt - risk neutral binomial pricing model\").center(56)) # 56 is len of divider\n",
    "    # print divider\n",
    "    print(\"-\"*55)"
   ]
  },
  {
   "cell_type": "code",
   "execution_count": 1545,
   "metadata": {},
   "outputs": [],
   "source": [
    "def _get_div_idx(div : dict, steps : int, maturity : float):\n",
    "    if div is None:\n",
    "        return None\n",
    "    # print dividends\n",
    "    print(f\"dividends:{str(div)}\".center(56))\n",
    "    # get \"todays\" date - time 0\n",
    "    start = list(div.keys())[0]\n",
    "    # replace start date with index 0 for start date\n",
    "    div[0] = div.pop(start)\n",
    "    # calc time length of each step\n",
    "    dt = maturity/steps\n",
    "    # get index of each div\n",
    "    for date, dividend in div.items():\n",
    "        # skip start key/val pair\n",
    "        if date != 0:\n",
    "            # calculate index aka days since start\n",
    "            idx = round((((pd.to_datetime(date) - pd.to_datetime(start)).days)/252)/dt)\n",
    "            # switch date with index\n",
    "            div[idx] = div.pop(date)\n",
    "    return div\n",
    "\n",
    "# explanation of dividend index calculation for varied time steps:\n",
    "# diff days / 252 = diff in years since start\n",
    "# dt = (t in years) / steps = time of step in years\n",
    "# diff in years / time of step in years = steps since start -> rounded = index of step\n"
   ]
  },
  {
   "cell_type": "markdown",
   "metadata": {},
   "source": [
    "- need to add dividend adjustment to back propogation - may be worth finding price before loops with dividend adjustment so its separate and easier to just call on later -> more readable\n",
    "- also need to have adjust _get_div_index to output indices according to steps, not just 122 (daily)"
   ]
  },
  {
   "cell_type": "code",
   "execution_count": 1546,
   "metadata": {},
   "outputs": [],
   "source": [
    "def _calc_maturity_value(stock : list, tree : list, s0 : float, k : float, n : int, t : float, u : float, d : float, prec : int, type : str, div : dict):\n",
    "    # call div idx func if divs - will return div to model for subsequent backprop call\n",
    "    div = _get_div_idx(div, n, t)\n",
    "    print(f\"step dividends:{div}\".center(56))\n",
    "    # check if dividend paid at maturity by checking if # of total steps is in div dict\n",
    "    if div is not None and n in list(div.keys()):\n",
    "        # get div amount\n",
    "        div_adj = div[n]\n",
    "        # print div adj\n",
    "        print(f\"dividend adjustment: {div_adj}\")\n",
    "    else:\n",
    "        div_adj = 0\n",
    "    # check option type\n",
    "    if type.lower() == \"call\":\n",
    "        # iterate over rows (price/nodes) @ maturity\n",
    "        for i in range(n, -1, -1):\n",
    "            # print stock price before div adj\n",
    "            if div_adj != 0 print(\"price before div adj:\", round((s0*(u**i)*(d**(n-i))), prec))\n",
    "            # calc stock price @ maturity considering potential dividend\n",
    "            stock[n][i] = round((s0*(u**i)*(d**(n-i)))-div_adj, prec) # s = s0 x up % ^ # up moves x down % ^ # down moves - div adj\n",
    "            # print stock price after div adj\n",
    "            if div_adj != 0 print(\"price after div adj:\", stock[n][i])\n",
    "            # calc option price @ maturity considering potential dividend\n",
    "            tree[n][i] = round(max(stock[n][i]-k, 0), prec) # max(s - d - k, 0)\n",
    "    elif type.lower() == \"put\":\n",
    "        # iterate over rows (price/nodes) @ maturity\n",
    "        for i in range(n, -1, -1):\n",
    "            # calc stock price @ maturity considering potential dividend\n",
    "            stock[n][i] = round((s0*(u**i)*(d**(n-i)))-div_adj, prec) # s = s0 x up % ^ # up moves x down % ^ # down moves - div adj\n",
    "            # calc option price @ maturity considering potential dividend\n",
    "            tree[n][i] = round(max(k-stock[n][i], 0), prec) # max(k - s, 0)\n",
    "    else:\n",
    "        raise ValueError(\"invalid option type - please enter 'call' or 'put'\")\n",
    "    return stock, tree, div\n",
    "    "
   ]
  },
  {
   "cell_type": "code",
   "execution_count": 1547,
   "metadata": {},
   "outputs": [],
   "source": [
    "def _back_prop(stock : list, tree : list, div : dict, s0 : float, k : float, n : int, dt : float, r : float, u : float, d : float, p : float, q : float, prec : int, type : str):\n",
    "    # iterate over cols (time)\n",
    "    for i in range(n-1, -1, -1):\n",
    "        # dividend idxs have already been identified in the maturity calculation so just have to check for them\n",
    "        # check if div paid at this time step\n",
    "        if div is not None and i in list(div.keys()):\n",
    "            # get div amount\n",
    "            div_adj = div[i]\n",
    "            # print div adj\n",
    "            print(f\"dividend adjustment: {div_adj}\")\n",
    "        else:\n",
    "            div_adj = 0\n",
    "        # iterate over rows (price/nodes)\n",
    "        for j in range(i+1, -1, -1):\n",
    "            # print stock price before div adj\n",
    "            if div_adj != 0 print(\"price before div adj:\", round((s0*(u**i)*(d**(n-i))), prec))\n",
    "            # fill in stock price at node\n",
    "            stock[i][j-1] = round((s0*(u**j)*(d**(i-j)))-div_adj, prec) # s = s0 x up % ^ # up moves x down % ^ # down moves\n",
    "            # print stock price after div adj\n",
    "            if div_adj != 0 print(\"price after div adj:\", stock[i][j-1])\n",
    "            # find option price at node by discounting expected value of option price at next time step\n",
    "            tree[i][j-1] = round(np.exp(-r*dt)*(p*tree[i+1][j]+q*tree[i+1][j-1]), prec)\n",
    "            if type.lower() == \"call\":\n",
    "                # # check exercise for call (option price vs intrinsic value) ********************** TODO: finish implementign early exercise print out\n",
    "                # if max(tree[i][j-1], (stock[i][j-1]) - k) == tree[i][j-1]:\n",
    "                #     print(\"call exercised at:\", stock[i][j-1])\n",
    "                tree[i][j-1] = round(max(tree[i][j-1], (stock[i][j-1]) - k), 2) # max(s - k, 0)\n",
    "            else:\n",
    "                # check exercise for put (option price vs intrinsic value)\n",
    "                tree[i][j-1] = round(max(tree[i][j-1], k - (stock[i][j-1])), 2) # max(k - s, 0)\n",
    "    return stock, tree"
   ]
  },
  {
   "cell_type": "code",
   "execution_count": 1548,
   "metadata": {},
   "outputs": [],
   "source": [
    "def _print_stock(stock : list):\n",
    "    # print price\n",
    "    for time, prices in enumerate(stock, 0):\n",
    "        centered = str(prices).center(41) # 41 is len of divider after time #:\n",
    "        print(f\"time {time}: {centered}\")\n",
    "    # print divider\n",
    "    print(\"-\"*55)"
   ]
  },
  {
   "cell_type": "code",
   "execution_count": 1549,
   "metadata": {},
   "outputs": [],
   "source": [
    "def _print_tree(tree : list):\n",
    "    # print tree\n",
    "    for time, branch in enumerate(tree, 0):\n",
    "        # print centered row\n",
    "        centered = str(branch).center(41) # 41 is len of divider after time #:\n",
    "        print(f\"time {time}: {centered}\")"
   ]
  },
  {
   "cell_type": "code",
   "execution_count": 1550,
   "metadata": {},
   "outputs": [],
   "source": [
    "def binom_rn_pricer(s0 : float, k : float, n : int, t : float, r : float, hvol : float, prec : int, type : str, div : dict):\n",
    "    \"\"\"\n",
    "    s0: initial stock price\n",
    "    k: strike price\n",
    "    n: number of steps\n",
    "    t: time to maturity per annum\n",
    "    r: risk-free rate\n",
    "    hvol: historical volatility - window size = maturity of rfr\n",
    "    maturity: maturity of rate used (e.g, 1-month = 1, 3-month = 3, 6-month = 6, 1-year = 12)\n",
    "    type: option type (call or put)\n",
    "    div: dividend dictionary {start date : pricing date, div1 date : div1 #, div2 date : div2 #, ...}\n",
    "    \"\"\"\n",
    "    # get adjusted & calculated params\n",
    "    t, dt, u, d, p, q = _get_binom_rn_params(n, t, r, hvol, prec)\n",
    "    # print model\n",
    "    _print_model(type)\n",
    "    # initialize option tree\n",
    "    tree = [[0]*(i+1) for i in range(n+1)]\n",
    "    # initialize stock tree\n",
    "    stock = [[0]*(i+1) for i in range(n+1)]\n",
    "    # calc option prices at maturity\n",
    "    stock, tree, div = _calc_maturity_value(stock, tree, s0, k, n, t, u, d, prec, type, div)\n",
    "    # backpropagate\n",
    "    stock, tree = _back_prop(stock, tree, div, s0, k, n, dt, r, u, d, p, q, prec, type)\n",
    "    # print stock price\n",
    "    _print_stock(stock)\n",
    "    # print option tree\n",
    "    _print_tree(tree)\n",
    "    # return price and df\n",
    "    return tree[0][0], tree, stock"
   ]
  },
  {
   "cell_type": "markdown",
   "metadata": {},
   "source": [
    "ALGO TEST"
   ]
  },
  {
   "cell_type": "code",
   "execution_count": 1551,
   "metadata": {},
   "outputs": [],
   "source": [
    "s0 = 100 # market price as of 6/1/23\n",
    "k = 101 # call strike\n",
    "n = 3 # if daily -> biz days to expiration (6/1/23 - 11/17/23) = 122\n",
    "t = 6/12 # tmt per annum\n",
    "r = .05 # 5% per annum\n",
    "hvol = .25 # 10% per annum\n",
    "prec = 2 # precision\n",
    "type = \"call\" # option type\n",
    "div = None # dividend yield"
   ]
  },
  {
   "cell_type": "code",
   "execution_count": 1552,
   "metadata": {},
   "outputs": [
    {
     "name": "stdout",
     "output_type": "stream",
     "text": [
      "dt: 0.16666666666666666  | u: 1.1074522120503245  |  d: 0.9029735000019652  |  p: 0.51543092750191  |  q: 0.48456907249809\n",
      "-------------------------------------------------------\n",
      "-------------------------------------------------------\n",
      "american call opt - risk neutral binomial pricing model \n",
      "-------------------------------------------------------\n",
      "div None\n",
      "time 0:                  [100.0]                 \n",
      "time 1:               [110.75, 90.3]             \n",
      "time 2:           [100.0, 122.65, 81.54]         \n",
      "time 3:       [73.62, 90.3, 110.75, 135.82]      \n",
      "-------------------------------------------------------\n",
      "time 0:                   [9.52]                 \n",
      "time 1:               [11.07, 8.04]              \n",
      "time 2:            [0.0, 21.65, 16.73]           \n",
      "time 3:            [0, 0, 9.75, 34.82]           \n"
     ]
    }
   ],
   "source": [
    "price, tree, stock = binom_rn_pricer(s0=s0, k=k, n=n, t=t, r=r, hvol=hvol, prec=prec, type=type, div=div)"
   ]
  },
  {
   "cell_type": "markdown",
   "metadata": {},
   "source": [
    "READ & PULL DATA"
   ]
  },
  {
   "cell_type": "code",
   "execution_count": 1553,
   "metadata": {},
   "outputs": [],
   "source": [
    "spyopt = pd.read_excel('spy_opt_data.xlsx')\n"
   ]
  },
  {
   "cell_type": "markdown",
   "metadata": {},
   "source": [
    "HISTORICAL VOLATILITY FUNCTION"
   ]
  },
  {
   "cell_type": "code",
   "execution_count": 1554,
   "metadata": {},
   "outputs": [],
   "source": [
    "def _get_hvol(hist : str, start : str, end : str, prec : int):\n",
    "    # check if data is already local\n",
    "    path = './spy_opt_hvol.csv'\n",
    "    if os.path.isfile(path):\n",
    "        spy = pd.read_csv(path)\n",
    "        # download new data if no local data\n",
    "    else:\n",
    "        spy = yf.download('SPY', start=hist, end=end)\n",
    "        spy = spy['Adj Close']\n",
    "        spy.index = pd.to_datetime(spy.index)\n",
    "        hist, start, end = pd.to_datetime(hist), pd.to_datetime(start), pd.to_datetime(end)\n",
    "    # calc historical volatility for window & annualize\n",
    "    return ((spy.pct_change().loc[hist:start]).dropna().std()*np.sqrt(252)).round(prec)"
   ]
  },
  {
   "cell_type": "markdown",
   "metadata": {},
   "source": [
    "INITIALIZE MODEL PARAMETERS"
   ]
  },
  {
   "cell_type": "code",
   "execution_count": 1555,
   "metadata": {},
   "outputs": [
    {
     "name": "stdout",
     "output_type": "stream",
     "text": [
      "[*********************100%%**********************]  1 of 1 completed\n"
     ]
    }
   ],
   "source": [
    "\n",
    "\n",
    "prec = 2 # precision\n",
    "s0 = 421.82 # market price as of 6/1/23\n",
    "k = 455 # strike\n",
    "n = 6 # number of steps\n",
    "r = .0517# feed in appropriate rate ^\n",
    "t = n/252 # tmt per annum\n",
    "type = \"call\" # option type\n",
    "hist = '2022-06-01' # 1 year of historical data\n",
    "start = '2023-06-01' # observation date (i.e, t = 0)\n",
    "end = '2023-11-17' # expiration date (i.e, t = n)\n",
    "hvol = _get_hvol(hist, start, end, prec) # get historical volatility\n",
    "div = {start : hist, start : 1.64, end : 1.58} # use ex-dividend dates"
   ]
  },
  {
   "cell_type": "code",
   "execution_count": 1556,
   "metadata": {},
   "outputs": [
    {
     "name": "stdout",
     "output_type": "stream",
     "text": [
      "dt: 0.003968253968253968  | u: 1.013316643673481  |  d: 0.9868583588786172  |  p: 0.5044476995207176  |  q: 0.49555230047928245\n",
      "-------------------------------------------------------\n",
      "-------------------------------------------------------\n",
      "american call opt - risk neutral binomial pricing model \n",
      "-------------------------------------------------------\n",
      "div {0: 0, 15: 1.64, 106: 1.58}\n",
      "time 0:                  [421.82]                \n",
      "time 1:              [427.44, 416.28]            \n",
      "time 2:          [421.82, 433.13, 410.81]        \n",
      "time 3:      [416.28, 427.44, 438.9, 405.41]     \n",
      "time 4:  [410.81, 421.82, 433.13, 444.74, 400.08]\n",
      "time 5: [405.41, 416.28, 427.44, 438.9, 450.66, 394.82]\n",
      "time 6: [389.63, 400.08, 410.81, 421.82, 433.13, 444.74, 456.67]\n",
      "-------------------------------------------------------\n",
      "time 0:                   [0.02]                 \n",
      "time 1:                [0.0, 0.05]               \n",
      "time 2:              [0.0, 0.0, 0.1]             \n",
      "time 3:            [0.0, 0.0, 0.0, 0.2]          \n",
      "time 4:         [0.0, 0.0, 0.0, 0.0, 0.41]       \n",
      "time 5:      [0.0, 0.0, 0.0, 0.0, 0.0, 0.83]     \n",
      "time 6:          [0, 0, 0, 0, 0, 0, 1.67]        \n"
     ]
    }
   ],
   "source": [
    "price, tree, stock = binom_rn_pricer(s0=s0, k=k, n=n, t=t, r=r, hvol=hvol, prec=prec, type=type, div=div)"
   ]
  },
  {
   "cell_type": "markdown",
   "metadata": {},
   "source": [
    "- make get_hvol() function and have it setup so that it uses previous x window based on frequency \n",
    "- incorporate dividends into calcualtion (use dictionary with time step and dividend amount)\n",
    "- add exercise print out (need to add max() conditional and then print time & executed if intrinsic is greater)\n",
    "\n",
    "i dont think the dividend is catc"
   ]
  },
  {
   "cell_type": "markdown",
   "metadata": {},
   "source": []
  }
 ],
 "metadata": {
  "kernelspec": {
   "display_name": "Python 3",
   "language": "python",
   "name": "python3"
  },
  "language_info": {
   "codemirror_mode": {
    "name": "ipython",
    "version": 3
   },
   "file_extension": ".py",
   "mimetype": "text/x-python",
   "name": "python",
   "nbconvert_exporter": "python",
   "pygments_lexer": "ipython3",
   "version": "3.9.6"
  }
 },
 "nbformat": 4,
 "nbformat_minor": 2
}
