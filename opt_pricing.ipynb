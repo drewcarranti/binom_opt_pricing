{
 "cells": [
  {
   "cell_type": "markdown",
   "metadata": {},
   "source": [
    "### FE-620 FINAL PROJECT: BINOMIAL PRICING MODEL FOR SPY OPTIONS"
   ]
  },
  {
   "cell_type": "markdown",
   "metadata": {},
   "source": [
    "#### IMPORTS"
   ]
  },
  {
   "cell_type": "code",
   "execution_count": 2473,
   "metadata": {},
   "outputs": [],
   "source": [
    "import yfinance as yf\n",
    "import pandas as pd\n",
    "import numpy as np\n",
    "import copy\n",
    "import os"
   ]
  },
  {
   "cell_type": "markdown",
   "metadata": {},
   "source": [
    "#### PARAMETERIZATION FUNCTIONS"
   ]
  },
  {
   "cell_type": "code",
   "execution_count": 2475,
   "metadata": {},
   "outputs": [],
   "source": [
    "def _get_binom_rn_params(n : float, t : float, r : float, hvol : float, prec : int):\n",
    "    # calc tree params\n",
    "    dt = t/n\n",
    "    u = np.exp(hvol*np.sqrt(dt))\n",
    "    d = 1/u\n",
    "    p = (np.exp(r*dt)-d)/(u-d)\n",
    "    q = 1 - p\n",
    "    # print divider\n",
    "    print(\"-\"*80)\n",
    "    # print params\n",
    "    print((f\"dt: {round(dt, 2)}  | u: {round(u, 2)}  |  d: {round(d, 2)}  |  p: {round(p, 2)}  |  q: {round(q, 2)}\").center(80)) # 56 is len of divider\n",
    "    # print divider\n",
    "    print(\"-\"*80)\n",
    "    return t, dt, u, d, p, q"
   ]
  },
  {
   "cell_type": "code",
   "execution_count": 2476,
   "metadata": {},
   "outputs": [],
   "source": [
    "def _get_div_idx(div : dict, steps : int, maturity : float):\n",
    "    if div is None:\n",
    "        return None\n",
    "    # print dividends\n",
    "    print(f\"dividends: {str(div)}\".center(80))\n",
    "    # get \"todays\" date - time 0\n",
    "    start = list(div.keys())[0]\n",
    "    # copy dict so dont change during iteration\n",
    "    idxdiv = copy.deepcopy(div)\n",
    "    # replace start date with index 0 for start date\n",
    "    idxdiv[0] = idxdiv.pop(start)\n",
    "    # calc time length of each step\n",
    "    dt = maturity/steps\n",
    "    # get index of each div date \n",
    "    for date in list(div.keys()): # use list() to avoid dict size change during iteration\n",
    "        # skip start key/val pair\n",
    "        if date != start:\n",
    "            # calculate index aka days since start\n",
    "            idx = round((np.busday_count(np.datetime64(start), np.datetime64(date))/252)/dt)\n",
    "            # switch date with index\n",
    "            idxdiv[idx] = idxdiv.pop(date)\n",
    "    return idxdiv\n",
    "\n",
    "# explanation of dividend index calculation for varied time steps:\n",
    "# diff days / 252 = diff in years since start\n",
    "# dt = (t in years) / steps = time of step in years\n",
    "# diff in years / time of step in years = steps since start -> rounded = index of step\n"
   ]
  },
  {
   "cell_type": "markdown",
   "metadata": {},
   "source": [
    "#### PRICING FUNCTIONS"
   ]
  },
  {
   "cell_type": "code",
   "execution_count": 2477,
   "metadata": {},
   "outputs": [],
   "source": [
    "def _calc_maturity_value(stock : list, tree : list, s0 : float, k : float, n : int, t : float, u : float, d : float, prec : int, type : str, div : dict):\n",
    "    # call div idx func if divs - will return div to model for subsequent backprop call\n",
    "    idxdiv = _get_div_idx(div, n, t)\n",
    "    # if idxdiv is not None: print(f\"dividends @ indices: {idxdiv}\".center(80))\n",
    "    # print divider\n",
    "    print(\"-\"*80)\n",
    "    # print header for output\n",
    "    print(\"ADJUSTMENT & EXERCISE REPORT\".center(80))\n",
    "    # print divider\n",
    "    print(\"-\"*80)\n",
    "    # check if dividend paid at maturity by checking if # of total steps is in div dict\n",
    "    if idxdiv is not None and n in list(idxdiv.keys()):\n",
    "        # get div amount\n",
    "        div_adj = idxdiv[n]\n",
    "        # print div adj\n",
    "        print(f\"time {n}: dividend adjustment = {div_adj}\")\n",
    "    else:\n",
    "        div_adj = 0\n",
    "    # check option type\n",
    "    if type.lower() == \"call\":\n",
    "        # iterate over rows (price/nodes) @ maturity\n",
    "        for i in range(n, -1, -1):\n",
    "            # calc stock price @ maturity considering potential dividend\n",
    "            stock[n][i] = round((s0*(u**i)*(d**(n-i)))-div_adj, prec) # s = s0 x up % ^ # up moves x down % ^ # down moves - div adj\n",
    "            # print stock price before & after div adj\n",
    "            if div_adj != 0: print(f\"time {n}: before div adj @ ${stock[n][i]+div_adj} & after div adj @ ${stock[n][i]}\")\n",
    "            # calc option price @ maturity considering potential dividend\n",
    "            tree[n][i] = round(max(stock[n][i]-k, 0.0), prec) # max(s - d - k, 0)\n",
    "    elif type.lower() == \"put\":\n",
    "        # iterate over rows (price/nodes) @ maturity\n",
    "        for i in range(n, -1, -1):\n",
    "            # calc stock price @ maturity considering potential dividend\n",
    "            stock[n][i] = round((s0*(u**i)*(d**(n-i)))-div_adj, prec) # s = s0 x up % ^ # up moves x down % ^ # down moves - div adj\n",
    "            # print stock price before & after div adj\n",
    "            if div_adj != 0: print(f\"time {n}: before div adj @ ${stock[n][i]+div_adj} & after div adj @ ${stock[n][i]}\")\n",
    "            # calc option price @ maturity considering potential dividend\n",
    "            tree[n][i] = round(max(k-stock[n][i], 0.0), prec) # max(k - s, 0)\n",
    "    else:\n",
    "        raise ValueError(\"invalid option type - please enter 'call' or 'put'\")\n",
    "    return stock, tree, idxdiv\n",
    "    "
   ]
  },
  {
   "cell_type": "code",
   "execution_count": 2478,
   "metadata": {},
   "outputs": [],
   "source": [
    "def _back_prop(stock : list, tree : list, idxdiv : dict, s0 : float, k : float, n : int, dt : float, r : float, u : float, d : float, p : float, q : float, prec : int, type : str):\n",
    "    # iterate over cols (time)\n",
    "    for i in range(n-1, -1, -1):\n",
    "        # dividend idxs have already been identified in the maturity calculation so just have to check for them\n",
    "        # check if div paid at this time step\n",
    "        if idxdiv is not None and i in list(idxdiv.keys()) and i != 0:\n",
    "            # get div amount\n",
    "            div_adj = idxdiv[i]\n",
    "            # print div adj\n",
    "            print(f\"time {i}: dividend adjustment of - ${div_adj}\".center(80))\n",
    "        else:\n",
    "            div_adj = 0\n",
    "        # iterate over rows (price/nodes)\n",
    "        for j in range(i+1, -1, -1):\n",
    "            # fill in stock price at node\n",
    "            stock[i][j-1] = round((s0*(u**j)*(d**(i-j)))-div_adj, prec) # s = s0 x up % ^ # up moves x down % ^ # down moves\n",
    "            # find option price at node by discounting expected value of option price at next (later) time step\n",
    "            tree[i][j-1] = round(np.exp(-r*dt)*(p*tree[i+1][j]+q*tree[i+1][j-1]), prec)\n",
    "            if type.lower() == \"call\":\n",
    "                # check exercise for call (option price vs intrinsic value) \n",
    "                if max(tree[i][j-1], (stock[i][j-1] - k)) == (stock[i][j-1] - k):\n",
    "                    print(f\"time {i}: call exercised @ price ${stock[i][j-1]}\".center(80))\n",
    "                tree[i][j-1] = round(max(tree[i][j-1], (stock[i][j-1] - k)), 2) # max(s - k, 0)\n",
    "            else:\n",
    "                # check exercise for put (option price vs intrinsic value)\n",
    "                if max(tree[i][j-1], (k - stock[i][j-1])) == (stock[i][j-1] - k):\n",
    "                    print(f\"time {i}: put exercised @ price ${stock[i][j-1]}\".center(80))\n",
    "                tree[i][j-1] = round(max(tree[i][j-1], k - stock[i][j-1]), 2) # max(k - s, 0)\n",
    "    return stock, tree"
   ]
  },
  {
   "cell_type": "markdown",
   "metadata": {},
   "source": [
    "#### PRINTING FUNCTIONS"
   ]
  },
  {
   "cell_type": "code",
   "execution_count": 2474,
   "metadata": {},
   "outputs": [],
   "source": [
    "def _print_model(type : str):\n",
    "    # print divider\n",
    "    print(\"-\"*80)\n",
    "    # print model\n",
    "    print((f\"AMERICAN {type.upper()} OPTION - RISK-NEUTRAL BINOMIAL PRICING MODEL\").center(80)) # 56 is len of divider"
   ]
  },
  {
   "cell_type": "code",
   "execution_count": 2479,
   "metadata": {},
   "outputs": [],
   "source": [
    "def _print_stock(stock : list):\n",
    "    # print divider\n",
    "    print(\"-\"*80)\n",
    "    # print header\n",
    "    print(\"STOCK PRICE TREE\".center(80))\n",
    "    # print divider\n",
    "    print(\"-\"*80)\n",
    "    # print price\n",
    "    for time, prices in enumerate(stock, 0):\n",
    "        centered = str(prices).center(65) # 65 is len of divider after time #:\n",
    "        print(f\"time {time}: {centered}\")"
   ]
  },
  {
   "cell_type": "code",
   "execution_count": 2480,
   "metadata": {},
   "outputs": [],
   "source": [
    "def _print_tree(tree : list, type : str):\n",
    "    # print divider\n",
    "    print(\"-\"*80)\n",
    "    # print header\n",
    "    print(f\"{type.upper()} OPTION PRICE TREE\".center(80))\n",
    "    # print divider\n",
    "    print(\"-\"*80)\n",
    "    # print tree\n",
    "    for time, branch in enumerate(tree, 0):\n",
    "        # print centered row\n",
    "        centered = str(branch).center(65) # 65 is len of divider after time #:\n",
    "        print(f\"time {time}: {centered}\")\n",
    "    # print divider\n",
    "    print(\"-\"*80)"
   ]
  },
  {
   "cell_type": "markdown",
   "metadata": {},
   "source": [
    "#### HISTORICAL VOLATILITY FUNCTION"
   ]
  },
  {
   "cell_type": "code",
   "execution_count": 2485,
   "metadata": {},
   "outputs": [],
   "source": [
    "def _get_hvol(hist : str, start : str, end : str, prec : int):\n",
    "    # check if data is already downloaded\n",
    "    path = './spy_opt_hvol.csv'\n",
    "    if os.path.isfile(path):\n",
    "        spy = pd.read_csv(path)\n",
    "    # otherwise download data\n",
    "    else:\n",
    "        # download data\n",
    "        spy = yf.download('SPY', start=hist, end=end)\n",
    "        # get adj close & convert index\n",
    "        spy = spy['Adj Close']\n",
    "        spy.index = pd.to_datetime(spy.index)\n",
    "        # save data\n",
    "        spy.to_csv(path, header=True)\n",
    "        # convert dates to datetime\n",
    "        hist, start, end = pd.to_datetime(hist), pd.to_datetime(start), pd.to_datetime(end)\n",
    "    # calc historical volatility for window & annualize\n",
    "    return ((spy.pct_change().loc[hist:start]).dropna().std()*np.sqrt(252)).round(prec)"
   ]
  },
  {
   "cell_type": "markdown",
   "metadata": {},
   "source": [
    "#### BINOMIAL PRICING MODEL FOR AMERICAN OPTION USING RISK NEUTRAL PROBABILITY"
   ]
  },
  {
   "cell_type": "code",
   "execution_count": 2481,
   "metadata": {},
   "outputs": [],
   "source": [
    "def binom_rn_pricer(s0 : float, k : float, n : int, t : float, r : float, hvol : float, prec : int, type : str, div : dict):\n",
    "    \"\"\"\n",
    "    s0: initial stock price\n",
    "    k: strike price\n",
    "    n: number of steps\n",
    "    t: time to maturity per annum\n",
    "    r: risk-free rate\n",
    "    hvol: historical volatility - window size = maturity of rfr\n",
    "    maturity: maturity of rate used (e.g, 1-month = 1, 3-month = 3, 6-month = 6, 1-year = 12)\n",
    "    type: option type (call or put)\n",
    "    div: dividend dictionary {start date : pricing date, div1 date : div1 #, div2 date : div2 #, ...}\n",
    "    \"\"\"\n",
    "    # print model\n",
    "    _print_model(type)\n",
    "    # get adjusted & calculated params\n",
    "    t, dt, u, d, p, q = _get_binom_rn_params(n, t, r, hvol, prec)\n",
    "    # initialize option tree\n",
    "    tree = [[0]*(i+1) for i in range(n+1)]\n",
    "    # initialize stock tree\n",
    "    stock = [[0]*(i+1) for i in range(n+1)]\n",
    "    # calc option prices at maturity\n",
    "    stock, tree, idxdiv = _calc_maturity_value(stock, tree, s0, k, n, t, u, d, prec, type, div)\n",
    "    # backpropagate\n",
    "    stock, tree = _back_prop(stock, tree, idxdiv, s0, k, n, dt, r, u, d, p, q, prec, type)\n",
    "    # print stock price tree\n",
    "    _print_stock(stock)\n",
    "    # print option tree\n",
    "    _print_tree(tree, type)\n",
    "    # return price and df\n",
    "    return tree[0][0], tree, stock"
   ]
  },
  {
   "cell_type": "markdown",
   "metadata": {},
   "source": [
    "#### PRICING TEST"
   ]
  },
  {
   "cell_type": "code",
   "execution_count": 2482,
   "metadata": {},
   "outputs": [],
   "source": [
    "s0 = 100 # market price as of 6/1/23\n",
    "k = 101 # call strike\n",
    "n = 3 # if daily -> biz days to expiration (6/1/23 - 11/17/23) = 122\n",
    "t = 6/12 # tmt per annum\n",
    "r = .05 # 5% per annum\n",
    "hvol = .25 # 10% per annum\n",
    "prec = 2 # precision\n",
    "type = \"call\" # option type\n",
    "div = None # dividend yield"
   ]
  },
  {
   "cell_type": "code",
   "execution_count": 2483,
   "metadata": {},
   "outputs": [
    {
     "name": "stdout",
     "output_type": "stream",
     "text": [
      "--------------------------------------------------------------------------------\n",
      "           AMERICAN CALL OPTION - RISK-NEUTRAL BINOMIAL PRICING MODEL           \n",
      "--------------------------------------------------------------------------------\n",
      "             dt: 0.17  | u: 1.11  |  d: 0.9  |  p: 0.52  |  q: 0.48             \n",
      "--------------------------------------------------------------------------------\n",
      "--------------------------------------------------------------------------------\n",
      "                          ADJUSTMENT & EXERCISE REPORT                          \n",
      "--------------------------------------------------------------------------------\n",
      "                     time 2: call exercised @ price $150.42                     \n",
      "                     time 2: call exercised @ price $122.65                     \n",
      "                     time 1: call exercised @ price $135.82                     \n",
      "                     time 0: call exercised @ price $122.65                     \n",
      "--------------------------------------------------------------------------------\n",
      "                                STOCK PRICE TREE                                \n",
      "--------------------------------------------------------------------------------\n",
      "time 0:                              [100.0]                             \n",
      "time 1:                           [110.75, 90.3]                         \n",
      "time 2:                       [100.0, 122.65, 81.54]                     \n",
      "time 3:                   [73.62, 90.3, 110.75, 135.82]                  \n",
      "--------------------------------------------------------------------------------\n",
      "                             CALL OPTION PRICE TREE                             \n",
      "--------------------------------------------------------------------------------\n",
      "time 0:                               [9.52]                             \n",
      "time 1:                           [11.07, 8.04]                          \n",
      "time 2:                        [0.0, 21.65, 16.73]                       \n",
      "time 3:                      [0.0, 0.0, 9.75, 34.82]                     \n",
      "--------------------------------------------------------------------------------\n"
     ]
    }
   ],
   "source": [
    "price, tree, stock = binom_rn_pricer(s0=s0, k=k, n=n, t=t, r=r, hvol=hvol, prec=prec, type=type, div=div)"
   ]
  },
  {
   "cell_type": "markdown",
   "metadata": {},
   "source": [
    "READ & PULL DATA"
   ]
  },
  {
   "cell_type": "code",
   "execution_count": 2484,
   "metadata": {},
   "outputs": [],
   "source": [
    "spyopt = pd.read_excel('spy_opt_data.xlsx')\n"
   ]
  },
  {
   "cell_type": "markdown",
   "metadata": {},
   "source": [
    "INITIALIZE MODEL PARAMETERS"
   ]
  },
  {
   "cell_type": "code",
   "execution_count": 2486,
   "metadata": {},
   "outputs": [
    {
     "name": "stdout",
     "output_type": "stream",
     "text": [
      "[*********************100%%**********************]  1 of 1 completed\n"
     ]
    }
   ],
   "source": [
    "type = \"call\" # option type\n",
    "hist = '2022-06-01' # 1 year of historical data\n",
    "start = '2023-06-01' # observation date (i.e, t = 0)\n",
    "end = '2023-11-17' # expiration date (i.e, t = n)\n",
    "tdays = np.busday_count(np.datetime64(start), np.datetime64(end))\n",
    "t = tdays / 252 # tmt per annum\n",
    "prec = 2 # precision\n",
    "s0 = 421.82 # market price as of 6/1/23\n",
    "k = 455 # strike\n",
    "n = 6 # number of steps\n",
    "r = .0517 # feed in appropriate rate ^ TODO <--------------------------------\n",
    "hvol = _get_hvol(hist, start, end, prec) # get historical volatility\n",
    "div = {start : 0, \"2023-06-16\" : 1.64, \"2023-09-15\" : 1.58} # use ex-dividend dates"
   ]
  },
  {
   "cell_type": "code",
   "execution_count": 2487,
   "metadata": {},
   "outputs": [
    {
     "name": "stdout",
     "output_type": "stream",
     "text": [
      "--------------------------------------------------------------------------------\n",
      "           AMERICAN CALL OPTION - RISK-NEUTRAL BINOMIAL PRICING MODEL           \n",
      "--------------------------------------------------------------------------------\n",
      "            dt: 0.08  | u: 1.06  |  d: 0.94  |  p: 0.52  |  q: 0.48             \n",
      "--------------------------------------------------------------------------------\n",
      "      dividends: {'2023-06-01': 0, '2023-06-16': 1.64, '2023-09-15': 1.58}      \n",
      "--------------------------------------------------------------------------------\n",
      "                          ADJUSTMENT & EXERCISE REPORT                          \n",
      "--------------------------------------------------------------------------------\n",
      "                     time 5: call exercised @ price $639.33                     \n",
      "                     time 5: call exercised @ price $567.71                     \n",
      "                     time 5: call exercised @ price $504.11                     \n",
      "                     time 4: dividend adjustment of - $1.58                     \n",
      "                     time 4: call exercised @ price $600.88                     \n",
      "                     time 3: call exercised @ price $567.71                     \n",
      "                     time 2: call exercised @ price $534.97                     \n",
      "                     time 1: dividend adjustment of - $1.64                     \n",
      "                     time 1: call exercised @ price $502.47                     \n",
      "                     time 0: call exercised @ price $475.04                     \n",
      "--------------------------------------------------------------------------------\n",
      "                                STOCK PRICE TREE                                \n",
      "--------------------------------------------------------------------------------\n",
      "time 0:                              [421.82]                            \n",
      "time 1:                          [446.0, 395.85]                         \n",
      "time 2:                      [421.82, 475.04, 374.56]                    \n",
      "time 3:                  [397.49, 447.64, 504.11, 352.96]                \n",
      "time 4:              [372.98, 420.24, 473.46, 533.39, 331.02]            \n",
      "time 5:          [352.96, 397.49, 447.64, 504.11, 567.71, 313.42]        \n",
      "time 6:      [295.34, 332.6, 374.56, 421.82, 475.04, 534.97, 602.46]     \n",
      "--------------------------------------------------------------------------------\n",
      "                             CALL OPTION PRICE TREE                             \n",
      "--------------------------------------------------------------------------------\n",
      "time 0:                               [14.4]                             \n",
      "time 1:                           [21.15, 7.21]                          \n",
      "time 2:                         [6.82, 34.54, 7.7]                       \n",
      "time 3:                     [0.0, 13.17, 54.54, 16.1]                    \n",
      "time 4:                  [0.0, 0.0, 25.43, 81.84, 33.69]                 \n",
      "time 5:               [0.0, 0.0, 0.0, 49.11, 112.71, 70.48]              \n",
      "time 6:             [0.0, 0.0, 0.0, 0.0, 20.04, 79.97, 147.46]           \n",
      "--------------------------------------------------------------------------------\n"
     ]
    }
   ],
   "source": [
    "price, tree, stock = binom_rn_pricer(s0=s0, k=k, n=n, t=t, r=r, hvol=hvol, prec=prec, type=type, div=div)"
   ]
  },
  {
   "cell_type": "markdown",
   "metadata": {},
   "source": [
    "- read in our data and check pricing model (iterate through each day from t=1 to t=T pricing using that day's tmt & s0 [feed in daily rate but run on different sofrs] to see how tmt & rate affects accuracy)\n",
    "- plot both model's stock prices vs market, model's option prices vs market, \n",
    "- run sensitivty analysis and save results for graphs"
   ]
  },
  {
   "cell_type": "markdown",
   "metadata": {},
   "source": [
    "^^^ basically just need to turn the 'INITIALIZE MODEL PARAMETERS' into variable and feed in stock data "
   ]
  }
 ],
 "metadata": {
  "kernelspec": {
   "display_name": "Python 3",
   "language": "python",
   "name": "python3"
  },
  "language_info": {
   "codemirror_mode": {
    "name": "ipython",
    "version": 3
   },
   "file_extension": ".py",
   "mimetype": "text/x-python",
   "name": "python",
   "nbconvert_exporter": "python",
   "pygments_lexer": "ipython3",
   "version": "3.9.6"
  }
 },
 "nbformat": 4,
 "nbformat_minor": 2
}
