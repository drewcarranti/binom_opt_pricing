{
 "cells": [
  {
   "cell_type": "code",
   "execution_count": null,
   "id": "f98c1240",
   "metadata": {},
   "outputs": [],
   "source": [
    "def plot_xy(x, y, title, x_label, y_label, legend_label=None):\n",
    "    color_rgb = (128, 0, 0)\n",
    "    color_normalized = tuple(c / 255 for c in color_rgb)\n",
    "\n",
    "    plt.figure(figsize=(10, 6))\n",
    "    plt.plot(x, y, linestyle='-', color=color_normalized, label=legend_label)\n",
    "\n",
    "    plt.title(title)\n",
    "    plt.xlabel(x_label)\n",
    "    plt.ylabel(y_label)\n",
    "    plt.grid(True)\n",
    "    \n",
    "    if legend_label:\n",
    "        plt.legend()\n",
    "\n",
    "    plt.show()\n",
    "    \n",
    "df['Date'] = pd.to_datetime(df['Date'])\n",
    "plot_xy(df['Date'], df['Option Gamma'],title='Option Gamma Time Series', x_label='Date', y_label='Option Gamma', legend_label='Option Gamma')"
   ]
  }
 ],
 "metadata": {
  "kernelspec": {
   "display_name": "Python 3 (ipykernel)",
   "language": "python",
   "name": "python3"
  },
  "language_info": {
   "codemirror_mode": {
    "name": "ipython",
    "version": 3
   },
   "file_extension": ".py",
   "mimetype": "text/x-python",
   "name": "python",
   "nbconvert_exporter": "python",
   "pygments_lexer": "ipython3",
   "version": "3.11.3"
  }
 },
 "nbformat": 4,
 "nbformat_minor": 5
}
