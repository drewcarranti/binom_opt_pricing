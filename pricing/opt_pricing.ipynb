{
 "cells": [
  {
   "cell_type": "markdown",
   "metadata": {},
   "source": [
    "### FE-620 FINAL PROJECT: BINOMIAL PRICING MODEL FOR SPY OPTIONS"
   ]
  },
  {
   "cell_type": "markdown",
   "metadata": {},
   "source": [
    "#### IMPORTS"
   ]
  },
  {
   "cell_type": "code",
   "execution_count": 871,
   "metadata": {},
   "outputs": [],
   "source": [
    "from datetime import datetime\n",
    "import datetime as dt\n",
    "import yfinance as yf\n",
    "import pandas as pd\n",
    "import numpy as np\n",
    "import copy\n",
    "import os"
   ]
  },
  {
   "cell_type": "markdown",
   "metadata": {},
   "source": [
    "#### PARAMETERIZATION FUNCTIONS"
   ]
  },
  {
   "cell_type": "code",
   "execution_count": 872,
   "metadata": {},
   "outputs": [],
   "source": [
    "def _get_binom_rn_params(n : float, t : float, r : float, hvol : float, prec : int):\n",
    "    # calc tree params\n",
    "    dt = t/n\n",
    "    u = np.exp(hvol*np.sqrt(dt))\n",
    "    d = 1/u\n",
    "    p = (np.exp(r*dt)-d)/(u-d)\n",
    "    q = 1 - p\n",
    "    # print divider\n",
    "    print(\"-\"*80)\n",
    "    # print params\n",
    "    print((f\"dt: {round(dt, 2)}  | u: {round(u, 2)}  |  d: {round(d, 2)}  |  p: {round(p, 2)}  |  q: {round(q, 2)}  |  hvol: {round(hvol, 2)}\").center(80)) # 56 is len of divider\n",
    "    # print divider\n",
    "    print(\"-\"*80)\n",
    "    return t, dt, u, d, p, q"
   ]
  },
  {
   "cell_type": "code",
   "execution_count": 873,
   "metadata": {},
   "outputs": [],
   "source": [
    "def _get_div_idx(div : dict, steps : int, maturity : float):\n",
    "    if div is None:\n",
    "        return None\n",
    "    # print dividends\n",
    "    print(f\"dividends: {str(div)}\".center(80))\n",
    "    # get \"todays\" date - time 0\n",
    "    start = list(div.keys())[0]\n",
    "    # copy dict so dont change during iteration\n",
    "    idxdiv = copy.deepcopy(div)\n",
    "    # replace start date with index 0 for start date\n",
    "    idxdiv[0] = idxdiv.pop(start)\n",
    "    # calc time length of each step\n",
    "    dt = maturity/steps\n",
    "    # get index of each div date \n",
    "    for date in list(div.keys()): # use list() to avoid dict size change during iteration\n",
    "        # skip start key/val pair\n",
    "        if date != start:\n",
    "            # calculate index aka days since start\n",
    "            idx = round((np.busday_count(np.datetime64(start), np.datetime64(date))/252)/dt)\n",
    "            # switch date with index\n",
    "            idxdiv[idx] = idxdiv.pop(date)\n",
    "    return idxdiv\n",
    "\n",
    "# explanation of dividend index calculation for varied time steps:\n",
    "# diff days / 252 = diff in years since start\n",
    "# dt = (t in years) / steps = time of step in years\n",
    "# diff in years / time of step in years = steps since start -> rounded = index of step\n"
   ]
  },
  {
   "cell_type": "markdown",
   "metadata": {},
   "source": [
    "#### PRICING FUNCTIONS"
   ]
  },
  {
   "cell_type": "code",
   "execution_count": 874,
   "metadata": {},
   "outputs": [],
   "source": [
    "def _calc_maturity_value(stock : list, tree : list, s0 : float, k : float, n : int, t : float, u : float, d : float, prec : int, type : str, div : dict):\n",
    "    # call div idx func if divs - will return div to model for subsequent backprop call\n",
    "    idxdiv = _get_div_idx(div, n, t)\n",
    "    # if idxdiv is not None: print(f\"dividends @ indices: {idxdiv}\".center(80))\n",
    "    # print divider\n",
    "    print(\"-\"*80)\n",
    "    # print header for output\n",
    "    print(\"ADJUSTMENT & EXERCISE REPORT\".center(80))\n",
    "    # print divider\n",
    "    print(\"-\"*80)\n",
    "    # check if dividend paid at maturity by checking if # of total steps is in div dict\n",
    "    if idxdiv is not None and n in list(idxdiv.keys()):\n",
    "        # get div amount\n",
    "        div_adj = idxdiv[n]\n",
    "        # print div adj\n",
    "        print(f\"time {n}: dividend adjustment = {div_adj}\")\n",
    "    else:\n",
    "        div_adj = 0\n",
    "    # check option type\n",
    "    if type.lower() == \"call\":\n",
    "        # iterate over rows (price/nodes) @ maturity\n",
    "        for i in range(n, -1, -1):\n",
    "            # calc stock price @ maturity considering potential dividend\n",
    "            stock[n][i] = round((s0*(u**i)*(d**(n-i)))-div_adj, prec) # s = s0 x up % ^ # up moves x down % ^ # down moves - div adj\n",
    "            # print stock price before & after div adj\n",
    "            if div_adj != 0: print(f\"time {n}: before div adj @ ${stock[n][i]+div_adj} & after div adj @ ${stock[n][i]}\")\n",
    "            # calc option price @ maturity considering potential dividend\n",
    "            tree[n][i] = round(max(stock[n][i]-k, 0.0), prec) # max(s - d - k, 0)\n",
    "    elif type.lower() == \"put\":\n",
    "        # iterate over rows (price/nodes) @ maturity\n",
    "        for i in range(n, -1, -1):\n",
    "            # calc stock price @ maturity considering potential dividend\n",
    "            stock[n][i] = round((s0*(u**i)*(d**(n-i)))-div_adj, prec) # s = s0 x up % ^ # up moves x down % ^ # down moves - div adj\n",
    "            # print stock price before & after div adj\n",
    "            if div_adj != 0: print(f\"time {n}: before div adj @ ${stock[n][i]+div_adj} & after div adj @ ${stock[n][i]}\")\n",
    "            # calc option price @ maturity considering potential dividend\n",
    "            tree[n][i] = round(max(k-stock[n][i], 0.0), prec) # max(k - s, 0)\n",
    "    else:\n",
    "        raise ValueError(\"invalid option type - please enter 'call' or 'put'\")\n",
    "    return stock, tree, idxdiv\n",
    "    "
   ]
  },
  {
   "cell_type": "code",
   "execution_count": 875,
   "metadata": {},
   "outputs": [],
   "source": [
    "def _back_prop(stock : list, tree : list, idxdiv : dict, s0 : float, k : float, n : int, dt : float, r : float, u : float, d : float, p : float, q : float, prec : int, type : str):\n",
    "    # iterate over cols (time)\n",
    "    for i in range(n-1, -1, -1):\n",
    "        # dividend idxs have already been identified in the maturity calculation so just have to check for them\n",
    "        # check if div paid at this time step\n",
    "        if idxdiv is not None and i in list(idxdiv.keys()) and i != 0:\n",
    "            # get div amount\n",
    "            div_adj = idxdiv[i]\n",
    "            # print div adj\n",
    "            print(f\"time {i}: dividend adjustment of - ${div_adj}\".center(80))\n",
    "        else:\n",
    "            div_adj = 0\n",
    "        # iterate over rows (price/nodes)\n",
    "        for j in range(i+1, -1, -1):\n",
    "            # fill in stock price at node\n",
    "            stock[i][j-1] = round((s0*(u**j)*(d**(i-j)))-div_adj, prec) # s = s0 x up % ^ # up moves x down % ^ # down moves\n",
    "            # find option price at node by discounting expected value of option price at next (later) time step\n",
    "            tree[i][j-1] = round(np.exp(-r*dt)*(p*tree[i+1][j]+q*tree[i+1][j-1]), prec)\n",
    "            if type.lower() == \"call\":\n",
    "                # check exercise for call (option price vs intrinsic value) \n",
    "                if max(tree[i][j-1], (stock[i][j-1] - k)) == (stock[i][j-1] - k):\n",
    "                    print(f\"time {i}: call exercised @ price ${stock[i][j-1]}\".center(80))\n",
    "                tree[i][j-1] = round(max(tree[i][j-1], (stock[i][j-1] - k)), 2) # max(s - k, 0)\n",
    "            else:\n",
    "                # check exercise for put (option price vs intrinsic value)\n",
    "                if max(tree[i][j-1], (k - stock[i][j-1])) == (stock[i][j-1] - k):\n",
    "                    print(f\"time {i}: put exercised @ price ${stock[i][j-1]}\".center(80))\n",
    "                tree[i][j-1] = round(max(tree[i][j-1], k - stock[i][j-1]), 2) # max(k - s, 0)\n",
    "    return stock, tree"
   ]
  },
  {
   "cell_type": "markdown",
   "metadata": {},
   "source": [
    "#### PRINTING FUNCTIONS"
   ]
  },
  {
   "cell_type": "code",
   "execution_count": 876,
   "metadata": {},
   "outputs": [],
   "source": [
    "def _print_model(type : str):\n",
    "    # print divider\n",
    "    print(\"-\"*80)\n",
    "    # print model\n",
    "    print((f\"AMERICAN {type.upper()} OPTION - RISK-NEUTRAL BINOMIAL PRICING MODEL\").center(80)) # 56 is len of divider"
   ]
  },
  {
   "cell_type": "code",
   "execution_count": 877,
   "metadata": {},
   "outputs": [],
   "source": [
    "def _print_stock(stock : list):\n",
    "    # print divider\n",
    "    print(\"-\"*80)\n",
    "    # print header\n",
    "    print(\"STOCK PRICE TREE\".center(80))\n",
    "    # print divider\n",
    "    print(\"-\"*80)\n",
    "    # print price\n",
    "    for time, prices in enumerate(stock, 0):\n",
    "        centered = str(prices).center(65) # 65 is len of divider after time #:\n",
    "        print(f\"time {time}: {centered}\")"
   ]
  },
  {
   "cell_type": "code",
   "execution_count": 878,
   "metadata": {},
   "outputs": [],
   "source": [
    "def _print_tree(tree : list, type : str):\n",
    "    # print divider\n",
    "    print(\"-\"*80)\n",
    "    # print header\n",
    "    print(f\"{type.upper()} OPTION PRICE TREE\".center(80))\n",
    "    # print divider\n",
    "    print(\"-\"*80)\n",
    "    # print tree\n",
    "    for time, branch in enumerate(tree, 0):\n",
    "        # print centered row\n",
    "        centered = str(branch).center(65) # 65 is len of divider after time #:\n",
    "        print(f\"time {time}: {centered}\")\n",
    "    # print divider\n",
    "    print(\"-\"*80)"
   ]
  },
  {
   "cell_type": "markdown",
   "metadata": {},
   "source": [
    "DOWNLOAD DATA"
   ]
  },
  {
   "cell_type": "code",
   "execution_count": 879,
   "metadata": {},
   "outputs": [],
   "source": [
    "def _get_hdata(ticker : str, hist : str, end : str):\n",
    "    # check if data is already downloaded\n",
    "    path = '../csvs/spy_historical.csv'\n",
    "    if os.path.isfile(path):\n",
    "        df = pd.read_csv(path)\n",
    "    # otherwise download data\n",
    "    else:\n",
    "        # download data\n",
    "        df = yf.download('SPY', start=hist, end=end)\n",
    "        # save data\n",
    "        df.to_csv(path, header=True)\n",
    "    # set date to datetime\n",
    "    df['Date'] = pd.to_datetime(df['Date'])\n",
    "    # get adj close & convert index\n",
    "    df = df[['Date', 'Adj Close']].rename(columns={'Adj Close':'spy', 'Date':'date'}).set_index('date')\n",
    "    return df"
   ]
  },
  {
   "cell_type": "markdown",
   "metadata": {},
   "source": [
    "#### HISTORICAL VOLATILITY FUNCTION"
   ]
  },
  {
   "cell_type": "code",
   "execution_count": 880,
   "metadata": {},
   "outputs": [],
   "source": [
    "def _get_hvol(df, hist : str, start : str, prec : int):\n",
    "    # convert dates to datetime\n",
    "    hist, start = pd.to_datetime(hist), pd.to_datetime(start)\n",
    "    # calc historical volatility for window & annualize\n",
    "    return ((df['spy'].pct_change().loc[hist:start]).dropna().std()*np.sqrt(252)).round(prec)"
   ]
  },
  {
   "cell_type": "markdown",
   "metadata": {},
   "source": [
    "#### BINOMIAL PRICING MODEL FOR AMERICAN OPTION USING RISK NEUTRAL PROBABILITY"
   ]
  },
  {
   "cell_type": "code",
   "execution_count": 881,
   "metadata": {},
   "outputs": [],
   "source": [
    "def binom_rn_pricer(s0 : float, k : float, n : int, t : float, r : float, hvol : float, prec : int, type : str, div : dict):\n",
    "    \"\"\"\n",
    "    s0: initial stock price\n",
    "    k: strike price\n",
    "    n: number of steps\n",
    "    t: time to maturity per annum\n",
    "    r: risk-free rate\n",
    "    hvol: historical volatility - window size = maturity of rfr\n",
    "    maturity: maturity of rate used (e.g, 1-month = 1, 3-month = 3, 6-month = 6, 1-year = 12)\n",
    "    type: option type (call or put)\n",
    "    div: dividend dictionary {start date : pricing date, div1 date : div1 #, div2 date : div2 #, ...}\n",
    "    \"\"\"\n",
    "    # print model\n",
    "    _print_model(type)\n",
    "    # get adjusted & calculated params\n",
    "    t, dt, u, d, p, q = _get_binom_rn_params(n, t, r, hvol, prec)\n",
    "    # initialize option tree\n",
    "    tree = [[0]*(i+1) for i in range(n+1)]\n",
    "    # initialize stock tree\n",
    "    stock = [[0]*(i+1) for i in range(n+1)]\n",
    "    # calc option prices at maturity\n",
    "    stock, tree, idxdiv = _calc_maturity_value(stock, tree, s0, k, n, t, u, d, prec, type, div)\n",
    "    # backpropagate\n",
    "    stock, tree = _back_prop(stock, tree, idxdiv, s0, k, n, dt, r, u, d, p, q, prec, type)\n",
    "    # print option tree\n",
    "    _print_tree(tree, type)\n",
    "    # print stock price tree\n",
    "    _print_stock(stock)\n",
    "    # return price and df\n",
    "    return tree[0][0], stock[0][0], tree, stock"
   ]
  },
  {
   "cell_type": "markdown",
   "metadata": {},
   "source": [
    "#### PRICING TEST"
   ]
  },
  {
   "cell_type": "markdown",
   "metadata": {},
   "source": [
    "THEORETICAL DUMMY DATA"
   ]
  },
  {
   "cell_type": "code",
   "execution_count": 882,
   "metadata": {},
   "outputs": [],
   "source": [
    "s0 = 100 # market price as of 6/1/23\n",
    "k = 101 # call strike\n",
    "n = 3 # if daily -> biz days to expiration (6/1/23 - 11/17/23) = 122\n",
    "t = 6/12 # tmt per annum\n",
    "r = .05 # 5% per annum\n",
    "hvol = .25 # 10% per annum\n",
    "prec = 2 # precision\n",
    "type = \"call\" # option type\n",
    "div = None # dividend yield"
   ]
  },
  {
   "cell_type": "code",
   "execution_count": 883,
   "metadata": {},
   "outputs": [
    {
     "name": "stdout",
     "output_type": "stream",
     "text": [
      "--------------------------------------------------------------------------------\n",
      "           AMERICAN CALL OPTION - RISK-NEUTRAL BINOMIAL PRICING MODEL           \n",
      "--------------------------------------------------------------------------------\n",
      "     dt: 0.17  | u: 1.11  |  d: 0.9  |  p: 0.52  |  q: 0.48  |  hvol: 0.25      \n",
      "--------------------------------------------------------------------------------\n",
      "--------------------------------------------------------------------------------\n",
      "                          ADJUSTMENT & EXERCISE REPORT                          \n",
      "--------------------------------------------------------------------------------\n",
      "                     time 2: call exercised @ price $150.42                     \n",
      "                     time 2: call exercised @ price $122.65                     \n",
      "                     time 1: call exercised @ price $135.82                     \n",
      "                     time 0: call exercised @ price $122.65                     \n",
      "--------------------------------------------------------------------------------\n",
      "                             CALL OPTION PRICE TREE                             \n",
      "--------------------------------------------------------------------------------\n",
      "time 0:                               [9.52]                             \n",
      "time 1:                           [11.07, 8.04]                          \n",
      "time 2:                        [0.0, 21.65, 16.73]                       \n",
      "time 3:                      [0.0, 0.0, 9.75, 34.82]                     \n",
      "--------------------------------------------------------------------------------\n",
      "--------------------------------------------------------------------------------\n",
      "                                STOCK PRICE TREE                                \n",
      "--------------------------------------------------------------------------------\n",
      "time 0:                              [100.0]                             \n",
      "time 1:                           [110.75, 90.3]                         \n",
      "time 2:                       [100.0, 122.65, 81.54]                     \n",
      "time 3:                   [73.62, 90.3, 110.75, 135.82]                  \n"
     ]
    }
   ],
   "source": [
    "optprice, stockprice, tree, stock = binom_rn_pricer(s0=s0, k=k, n=n, t=t, r=r, hvol=hvol, prec=prec, type=type, div=div)"
   ]
  },
  {
   "cell_type": "markdown",
   "metadata": {},
   "source": [
    "MARKET-LIKE DUMMY DATA"
   ]
  },
  {
   "cell_type": "code",
   "execution_count": 884,
   "metadata": {},
   "outputs": [],
   "source": [
    "# date params\n",
    "hist = '2022-06-01' # 1 year of historical data\n",
    "start = '2023-06-01' # observation date (i.e, t = 0)\n",
    "end = '2023-11-17' # expiration date (i.e, t = n)\n",
    "# contract params\n",
    "type = \"call\" # option type\n",
    "tdays = np.busday_count(np.datetime64(start), np.datetime64(end))\n",
    "t = tdays / 252 # tmt per annum\n",
    "prec = 2 # precision\n",
    "s0 = 421.82 # market price as of 6/1/23\n",
    "k = 455 # strike\n",
    "n = 6 # number of steps\n",
    "# market params\n",
    "r = .0517 # feed in appropriate rate\n",
    "histdf = _get_hdata('SPY', hist, end) # get historical data\n",
    "hvol = _get_hvol(histdf, hist, start, prec) # get historical volatility\n",
    "div = {start : 0, \"2023-06-16\" : 1.64, \"2023-09-15\" : 1.58} # use ex-dividend dates"
   ]
  },
  {
   "cell_type": "code",
   "execution_count": 885,
   "metadata": {},
   "outputs": [
    {
     "name": "stdout",
     "output_type": "stream",
     "text": [
      "--------------------------------------------------------------------------------\n",
      "           AMERICAN CALL OPTION - RISK-NEUTRAL BINOMIAL PRICING MODEL           \n",
      "--------------------------------------------------------------------------------\n",
      "     dt: 0.08  | u: 1.06  |  d: 0.94  |  p: 0.52  |  q: 0.48  |  hvol: 0.21     \n",
      "--------------------------------------------------------------------------------\n",
      "      dividends: {'2023-06-01': 0, '2023-06-16': 1.64, '2023-09-15': 1.58}      \n",
      "--------------------------------------------------------------------------------\n",
      "                          ADJUSTMENT & EXERCISE REPORT                          \n",
      "--------------------------------------------------------------------------------\n",
      "                     time 5: call exercised @ price $639.33                     \n",
      "                     time 5: call exercised @ price $567.71                     \n",
      "                     time 5: call exercised @ price $504.11                     \n",
      "                     time 4: dividend adjustment of - $1.58                     \n",
      "                     time 4: call exercised @ price $600.88                     \n",
      "                     time 3: call exercised @ price $567.71                     \n",
      "                     time 2: call exercised @ price $534.97                     \n",
      "                     time 1: dividend adjustment of - $1.64                     \n",
      "                     time 1: call exercised @ price $502.47                     \n",
      "                     time 0: call exercised @ price $475.04                     \n",
      "--------------------------------------------------------------------------------\n",
      "                             CALL OPTION PRICE TREE                             \n",
      "--------------------------------------------------------------------------------\n",
      "time 0:                               [14.4]                             \n",
      "time 1:                           [21.15, 7.21]                          \n",
      "time 2:                         [6.82, 34.54, 7.7]                       \n",
      "time 3:                     [0.0, 13.17, 54.54, 16.1]                    \n",
      "time 4:                  [0.0, 0.0, 25.43, 81.84, 33.69]                 \n",
      "time 5:               [0.0, 0.0, 0.0, 49.11, 112.71, 70.48]              \n",
      "time 6:             [0.0, 0.0, 0.0, 0.0, 20.04, 79.97, 147.46]           \n",
      "--------------------------------------------------------------------------------\n",
      "--------------------------------------------------------------------------------\n",
      "                                STOCK PRICE TREE                                \n",
      "--------------------------------------------------------------------------------\n",
      "time 0:                              [421.82]                            \n",
      "time 1:                          [446.0, 395.85]                         \n",
      "time 2:                      [421.82, 475.04, 374.56]                    \n",
      "time 3:                  [397.49, 447.64, 504.11, 352.96]                \n",
      "time 4:              [372.98, 420.24, 473.46, 533.39, 331.02]            \n",
      "time 5:          [352.96, 397.49, 447.64, 504.11, 567.71, 313.42]        \n",
      "time 6:      [295.34, 332.6, 374.56, 421.82, 475.04, 534.97, 602.46]     \n"
     ]
    }
   ],
   "source": [
    "optprice, stockprice, tree, stock = binom_rn_pricer(s0=s0, k=k, n=n, t=t, r=r, hvol=hvol, prec=prec, type=type, div=div)"
   ]
  },
  {
   "cell_type": "markdown",
   "metadata": {},
   "source": [
    "#### READ & PULL DATA"
   ]
  },
  {
   "cell_type": "code",
   "execution_count": 886,
   "metadata": {},
   "outputs": [],
   "source": [
    "call = pd.read_csv('../csvs/spycall.csv')\n",
    "put = pd.read_csv('../csvs/spyput.csv')"
   ]
  },
  {
   "cell_type": "code",
   "execution_count": 887,
   "metadata": {},
   "outputs": [],
   "source": [
    "call['date'] = pd.to_datetime(call['date'], format='%m/%d/%y')\n",
    "put['date'] = pd.to_datetime(put['date'], format='%m/%d/%y')\n",
    "call.set_index('date', inplace=True)\n",
    "put.set_index('date', inplace=True)"
   ]
  },
  {
   "cell_type": "markdown",
   "metadata": {},
   "source": [
    "### SET PARAMETERS SENSITIVITY ANALYSIS"
   ]
  },
  {
   "cell_type": "markdown",
   "metadata": {},
   "source": [
    "PARAMS SPECIFIED FOR RUNS WHERE ALL OTHER HELD CONSTANT"
   ]
  },
  {
   "cell_type": "code",
   "execution_count": 889,
   "metadata": {},
   "outputs": [
    {
     "name": "stdout",
     "output_type": "stream",
     "text": [
      "--------------------------------------------------------------------------------\n",
      "           AMERICAN CALL OPTION - RISK-NEUTRAL BINOMIAL PRICING MODEL           \n",
      "--------------------------------------------------------------------------------\n",
      "     dt: 0.1  | u: 1.07  |  d: 0.94  |  p: 5.29  |  q: -4.29  |  hvol: 0.21     \n",
      "--------------------------------------------------------------------------------\n",
      "      dividends: {'2023-06-01': 0, '2023-06-16': 1.64, '2023-09-15': 1.58}      \n",
      "--------------------------------------------------------------------------------\n",
      "                          ADJUSTMENT & EXERCISE REPORT                          \n",
      "--------------------------------------------------------------------------------\n",
      "                     time 4: call exercised @ price $480.45                     \n",
      "                     time 4: call exercised @ price $325.14                     \n",
      "                     time 3: dividend adjustment of - $1.58                     \n",
      "                     time 3: call exercised @ price $582.46                     \n",
      "                     time 2: call exercised @ price $547.24                     \n",
      "                     time 2: call exercised @ price $370.34                     \n",
      "                     time 1: call exercised @ price $512.76                     \n",
      "                     time 0: call exercised @ price $480.45                     \n",
      "--------------------------------------------------------------------------------\n",
      "                             CALL OPTION PRICE TREE                             \n",
      "--------------------------------------------------------------------------------\n",
      "time 0:                             [11219.14]                           \n",
      "time 1:                         [4340.3, 1100.06]                        \n",
      "time 2:                     [269.44, 1552.49, -84.66]                    \n",
      "time 3:                    [0.0, 82.81, 544.31, 342.66]                  \n",
      "time 4:                 [0.0, 0.0, 25.45, 187.93, -129.86]               \n",
      "time 5:                [0.0, 0.0, 0.0, 0.0, 57.76, 129.04]               \n",
      "--------------------------------------------------------------------------------\n",
      "--------------------------------------------------------------------------------\n",
      "                                STOCK PRICE TREE                                \n",
      "--------------------------------------------------------------------------------\n",
      "time 0:                              [421.82]                            \n",
      "time 1:                          [450.18, 395.24]                        \n",
      "time 2:                      [421.82, 480.45, 370.34]                    \n",
      "time 3:                  [393.66, 448.6, 511.18, 345.43]                 \n",
      "time 4:              [370.34, 421.82, 480.45, 547.24, 325.14]            \n",
      "time 5:          [304.66, 347.01, 395.24, 450.18, 512.76, 584.04]        \n"
     ]
    }
   ],
   "source": [
    "# time params\n",
    "hist = '2022-06-01' # 1 year of historical data\n",
    "t0 = '2023-06-01' # observation date (i.e, t = 0)\n",
    "end = '2023-11-17' # expiration date (i.e, t = n)\n",
    "# market params\n",
    "rate = call['sofr12m'].loc[datetime(2023, 6, 1, 0, 0)]  # get t = 0 rate\n",
    "histdf = _get_hdata('SPY', hist, end) # get historical data\n",
    "hvol = _get_hvol(histdf, hist, t0, prec) # get 1yr historical volatility\n",
    "div = {start : 0, \"2023-06-16\" : 1.64, \"2023-09-15\" : 1.58} # use ex-dividend dates\n",
    "# contract params\n",
    "type = \"call\" # option type\n",
    "tdays = np.busday_count(np.datetime64(t0), np.datetime64(end))\n",
    "t = tdays / 252 # tmt per annum\n",
    "s0 = 421.82 # market price as of 6/1/23\n",
    "k = 455 # strike\n",
    "n = 5                                           # TODO: decide which n to use\n",
    "prec = 2 # precision\n",
    "\n",
    "optprice, stockprice, tree, stock = binom_rn_pricer(s0=s0, k=k, n=n, t=t, r=rate, hvol=hvol, prec=prec, type=type, div=div)"
   ]
  },
  {
   "cell_type": "markdown",
   "metadata": {},
   "source": [
    "ITERATE OVER TIME - will use this to call on later functions over time to show relationship"
   ]
  },
  {
   "cell_type": "code",
   "execution_count": 890,
   "metadata": {},
   "outputs": [],
   "source": [
    "# at t=0, 3m tmt, 1m tmt, 1w tmt\n",
    "# 119 - #*5 for date before # weeks\n",
    "startdates = list(range(1:round(len(call.index)/5))) # weeks before\n",
    "# TODO: get start dates for 3m, 1m, 1w and then call binom_rn_pricer for each\n",
    "\n",
    "\n",
    "# get last 6 months, last 3 months, and last 1 month\n",
    "start3 = np.busday_offset(start, 3*5, roll='forward') # forward = next biz days for non-biz day calc\n",
    "hvol3 = np.busday_offset(start, 2*5, roll='forward')\n",
    "hvol1 = np.busday_offset(start, 1*5, roll='forward')\n",
    "# swith to datetime for string conversion\n",
    "hvol6 = hvol6.astype(datetime)\n",
    "hvol3 = hvol3.astype(datetime)\n",
    "hvol1 = hvol1.astype(datetime)"
   ]
  },
  {
   "cell_type": "markdown",
   "metadata": {},
   "source": [
    "STEPS"
   ]
  },
  {
   "cell_type": "code",
   "execution_count": null,
   "metadata": {},
   "outputs": [],
   "source": [
    "# TODO try different step values with all else equal to see how it affects price"
   ]
  },
  {
   "cell_type": "markdown",
   "metadata": {},
   "source": [
    "RATES"
   ]
  },
  {
   "cell_type": "code",
   "execution_count": 891,
   "metadata": {},
   "outputs": [
    {
     "data": {
      "text/plain": [
       "[5.35, 5.03, 5.3, 5.37, 5.41]"
      ]
     },
     "execution_count": 891,
     "metadata": {},
     "output_type": "execute_result"
    }
   ],
   "source": [
    "# call.ravg12m.plot()\n",
    "def get_rates(df, ratecol : str):\n",
    "    rates = []\n",
    "    # get stats\n",
    "    result = df[ratecol].describe()\n",
    "    # get testing rates\n",
    "    for stat, value in result.items():\n",
    "        # add all stats except count, std, & max\n",
    "        if stat == 'count' or stat == 'std' or stat == 'max':\n",
    "            continue\n",
    "        rates.append(round(value, prec))\n",
    "    # return rates\n",
    "    return rates\n",
    "\n",
    "get_rates(call, 'sofr12m')"
   ]
  },
  {
   "cell_type": "code",
   "execution_count": null,
   "metadata": {},
   "outputs": [],
   "source": [
    "def _pop_varied_rates_prices(df, ratecols : [str], tmt : float, type : str):\n",
    "    for ratecol in ratecols:\n",
    "        # get rates\n",
    "        rate = get_rates(df, ratecol)\n",
    "            optprice, stockprice, tree, stock = binom_rn_pricer(s0=s0, k=k, n=n, t=tmt, r=rate, hvol=hvold, prec=prec, type=type, div=div)\n",
    "        df[date][f'{ratecol}price'] = optprice\n",
    "\n",
    "ratecols = ['sofr12m', 'sofr6m', 'sofr3m', 'sofr1m', 'sofr1w']\n",
    "_pop_varied_hvol_prices(call, ratecols, tmt, type)"
   ]
  },
  {
   "cell_type": "markdown",
   "metadata": {},
   "source": [
    "HISTORICAL VOL TIME WINDOWS"
   ]
  },
  {
   "cell_type": "code",
   "execution_count": 892,
   "metadata": {},
   "outputs": [
    {
     "name": "stdout",
     "output_type": "stream",
     "text": [
      "{'hvol6': '2022-11-24', 'hvol3': '2023-02-21', 'hvol1': '2023-04-20'}\n"
     ]
    }
   ],
   "source": [
    "def _get_hvol_dates(hist : str, start : str):\n",
    "    # get last 6 months, last 3 months, and last 1 month\n",
    "    hvol6 = np.busday_offset(hist, 6*21, roll='forward') # forward = next biz days for non-biz day calc\n",
    "    hvol3 = np.busday_offset(hist, 9*21, roll='forward')\n",
    "    hvol1 = np.busday_offset(hist, 11*21, roll='forward')\n",
    "    # swith to datetime for string conversion\n",
    "    hvol6 = hvol6.astype(datetime)\n",
    "    hvol3 = hvol3.astype(datetime)\n",
    "    hvol1 = hvol1.astype(datetime)\n",
    "    # add string versions to dict\n",
    "    hvols = {'hvol6' : hvol6.strftime('%Y-%m-%d'), 'hvol3' : hvol3.strftime('%Y-%m-%d'), 'hvol1' : hvol1.strftime('%Y-%m-%d')}\n",
    "    return hvols\n",
    "print(_get_hvol_dates(hist, start))"
   ]
  },
  {
   "cell_type": "markdown",
   "metadata": {},
   "source": [
    "POPULATE THE DF W/ PRICES FROM VARIED PARAMS"
   ]
  },
  {
   "cell_type": "code",
   "execution_count": 893,
   "metadata": {},
   "outputs": [],
   "source": [
    "\n",
    "def _pop_varied_hvol_prices(df, hist : str, start : str, prec : int, tmt : float, type : str):\n",
    "    hvols = _get_hvol_dates(hist, start)\n",
    "    for volw, date in hvols.items:\n",
    "        # get hvol for each date window\n",
    "        hvold = _get_hvol(histdf, date, start, prec)\n",
    "        # price\n",
    "        optprice, stockprice, tree, stock = binom_rn_pricer(s0=s0, k=k, n=n, t=tmt, r=rate, hvol=hvold, prec=prec, type=type, div=div)\n",
    "        df[date][f'{volw}price'] = optprice\n",
    "\n",
    "# _pop_varied_hvol_prices(histdf, hist, start, prec, t, type)"
   ]
  },
  {
   "cell_type": "markdown",
   "metadata": {},
   "source": [
    "IV WINDOW"
   ]
  },
  {
   "cell_type": "code",
   "execution_count": null,
   "metadata": {},
   "outputs": [],
   "source": []
  },
  {
   "cell_type": "markdown",
   "metadata": {},
   "source": [
    "PRICE TREE PARAMETERS USING HISTORICAL CALIBRATION"
   ]
  },
  {
   "cell_type": "code",
   "execution_count": 894,
   "metadata": {},
   "outputs": [],
   "source": [
    "def calculate_up_down_params(df):\n",
    "    # get returns\n",
    "    returns = df['spy'].pct_change().dropna()\n",
    "    # get up & down moves\n",
    "    up_moves = returns[returns > 0]\n",
    "    down_moves = returns[returns < 0]\n",
    "    # calc params\n",
    "    avg_up = up_moves.mean()\n",
    "    avg_down = down_moves.mean()\n",
    "\n",
    "    p_up = len(up_moves) / len(returns)\n",
    "    p_down = len(down_moves) / len(returns)\n",
    "\n",
    "    return avg_up, avg_down, p_up, p_down\n"
   ]
  },
  {
   "cell_type": "markdown",
   "metadata": {},
   "source": [
    "ITERATE OVER TMT"
   ]
  },
  {
   "cell_type": "code",
   "execution_count": null,
   "metadata": {},
   "outputs": [],
   "source": []
  },
  {
   "cell_type": "markdown",
   "metadata": {},
   "source": [
    "- check pricing model (iterate through each day from t=1 to t=T pricing using that day's tmt & s0 (feed in daily rate but run on different sofrs] to see how tmt & rate affects accuracy)\n",
    "- plot both model's stock prices vs market, model's option prices vs market, \n",
    "- run sensitivty analysis and save results for graphs"
   ]
  },
  {
   "cell_type": "markdown",
   "metadata": {},
   "source": [
    "^^^ basically just need to turn the 'INITIALIZE MODEL PARAMETERS' into variable and feed in stock data "
   ]
  }
 ],
 "metadata": {
  "kernelspec": {
   "display_name": "Python 3",
   "language": "python",
   "name": "python3"
  },
  "language_info": {
   "codemirror_mode": {
    "name": "ipython",
    "version": 3
   },
   "file_extension": ".py",
   "mimetype": "text/x-python",
   "name": "python",
   "nbconvert_exporter": "python",
   "pygments_lexer": "ipython3",
   "version": "3.9.6"
  }
 },
 "nbformat": 4,
 "nbformat_minor": 2
}
