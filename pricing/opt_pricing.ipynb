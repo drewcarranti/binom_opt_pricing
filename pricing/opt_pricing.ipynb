{
 "cells": [
  {
   "cell_type": "markdown",
   "metadata": {},
   "source": [
    "### FE-620 FINAL PROJECT: BINOMIAL PRICING MODEL FOR SPY OPTIONS"
   ]
  },
  {
   "cell_type": "markdown",
   "metadata": {},
   "source": [
    "#### IMPORTS"
   ]
  },
  {
   "cell_type": "code",
   "execution_count": 1793,
   "metadata": {},
   "outputs": [],
   "source": [
    "from datetime import datetime\n",
    "import datetime as dt\n",
    "import yfinance as yf\n",
    "import pandas as pd\n",
    "import numpy as np\n",
    "import copy\n",
    "import os"
   ]
  },
  {
   "cell_type": "markdown",
   "metadata": {},
   "source": [
    "#### PARAMETERIZATION FUNCTIONS"
   ]
  },
  {
   "cell_type": "code",
   "execution_count": 1794,
   "metadata": {},
   "outputs": [],
   "source": [
    "def _get_binom_rn_params(n : float, t : float, r : float, hvol : float, prec : int):\n",
    "    # calc tree params\n",
    "    dt = t/n\n",
    "    u = np.exp(hvol*np.sqrt(dt))\n",
    "    d = 1/u\n",
    "    p = (np.exp(r*dt)-d)/(u-d)\n",
    "    q = 1 - p\n",
    "    # # print divider\n",
    "    # print(\"-\"*80) # # commented out for iterative calling # #\n",
    "    # print params # # commented out for iterative calling # #\n",
    "    # print((f\"dt: {round(dt, 2)}  | u: {round(u, 2)}  |  d: {round(d, 2)}  |  p: {round(p, 2)}  |  q: {round(q, 2)}  |  hvol: {round(hvol, 2)}\").center(80)) # 56 is len of divider\n",
    "    # # print divider\n",
    "    # print(\"-\"*80) # # commented out for iterative calling # #\n",
    "    return t, dt, u, d, p, q"
   ]
  },
  {
   "cell_type": "code",
   "execution_count": 1795,
   "metadata": {},
   "outputs": [],
   "source": [
    "def _get_div_idx(div : dict, steps : int, maturity : float):\n",
    "    if div is None:\n",
    "        return None\n",
    "    # # print dividends\n",
    "    # print(f\"dividends: {str(div)}\".center(80)) # # commented out for iterative calling # #\n",
    "    # get \"todays\" date - time 0\n",
    "    start = list(div.keys())[0]\n",
    "    # copy dict so dont change during iteration\n",
    "    idxdiv = copy.deepcopy(div)\n",
    "    # replace start date with index 0 for start date\n",
    "    idxdiv[0] = idxdiv.pop(start)\n",
    "    # calc time length of each step\n",
    "    dt = maturity/steps\n",
    "    # get index of each div date \n",
    "    for date in list(div.keys()): # use list() to avoid dict size change during iteration\n",
    "        # skip start key/val pair\n",
    "        if date != start:\n",
    "            # calculate index aka days since start\n",
    "            idx = round((np.busday_count(np.datetime64(start), np.datetime64(date))/252)/dt)\n",
    "            # switch date with index\n",
    "            idxdiv[idx] = idxdiv.pop(date)\n",
    "    return idxdiv\n",
    "\n",
    "# explanation of dividend index calculation for varied time steps:\n",
    "# diff days / 252 = diff in years since start\n",
    "# dt = (t in years) / steps = time of step in years\n",
    "# diff in years / time of step in years = steps since start -> rounded = index of step\n"
   ]
  },
  {
   "cell_type": "markdown",
   "metadata": {},
   "source": [
    "#### PRICING FUNCTIONS"
   ]
  },
  {
   "cell_type": "code",
   "execution_count": 1796,
   "metadata": {},
   "outputs": [],
   "source": [
    "def _calc_maturity_value(stock : list, tree : list, s0 : float, k : float, n : int, t : float, u : float, d : float, prec : int, type : str, div : dict):\n",
    "    # call div idx func if divs - will return div to model for subsequent backprop call\n",
    "    idxdiv = _get_div_idx(div, n, t)\n",
    "    # if idxdiv is not None: print(f\"dividends @ indices: {idxdiv}\".center(80))\n",
    "    # # print divider\n",
    "    # print(\"-\"*80) # # commented out for iterative calling # #\n",
    "    # print header for output\n",
    "    # print(\"ADJUSTMENT & EXERCISE REPORT\".center(80))\n",
    "    # # print divider\n",
    "    # print(\"-\"*80) # # commented out for iterative calling # #\n",
    "    # check if dividend paid at maturity by checking if # of total steps is in div dict\n",
    "    if idxdiv is not None and n in list(idxdiv.keys()):\n",
    "        # get div amount\n",
    "        div_adj = idxdiv[n]\n",
    "        # # print div adj\n",
    "        # print(f\"time {n}: dividend adjustment = {div_adj}\") # # commented out for iterative calling # #\n",
    "    else:\n",
    "        div_adj = 0\n",
    "    # check option type\n",
    "    if type.lower() == \"call\":\n",
    "        # iterate over rows (price/nodes) @ maturity\n",
    "        for i in range(n, -1, -1):\n",
    "            # calc stock price @ maturity considering potential dividend\n",
    "            stock[n][i] = round((s0*(u**i)*(d**(n-i)))-div_adj, prec) # s = s0 x up % ^ # up moves x down % ^ # down moves - div adj\n",
    "            # # print stock price before & after div adj \n",
    "            # if div_adj != 0: print(f\"time {n}: before div adj @ ${stock[n][i]+div_adj} & after div adj @ ${stock[n][i]}\") # # commented out for iterative calling # #\n",
    "            # calc option price @ maturity considering potential dividend\n",
    "            tree[n][i] = round(max(stock[n][i]-k, 0.0), prec) # max(s - d - k, 0)\n",
    "    elif type.lower() == \"put\":\n",
    "        # iterate over rows (price/nodes) @ maturity\n",
    "        for i in range(n, -1, -1):\n",
    "            # calc stock price @ maturity considering potential dividend\n",
    "            stock[n][i] = round((s0*(u**i)*(d**(n-i)))-div_adj, prec) # s = s0 x up % ^ # up moves x down % ^ # down moves - div adj\n",
    "            # # print stock price before & after div adj\n",
    "            # if div_adj != 0: print(f\"time {n}: before div adj @ ${stock[n][i]+div_adj} & after div adj @ ${stock[n][i]}\") # # commented out for iterative calling # #\n",
    "            # calc option price @ maturity considering potential dividend\n",
    "            tree[n][i] = round(max(k-stock[n][i], 0.0), prec) # max(k - s, 0)\n",
    "    else:\n",
    "        raise ValueError(\"invalid option type - please enter 'call' or 'put'\")\n",
    "    return stock, tree, idxdiv\n",
    "    "
   ]
  },
  {
   "cell_type": "code",
   "execution_count": 1797,
   "metadata": {},
   "outputs": [],
   "source": [
    "def _back_prop(stock : list, tree : list, idxdiv : dict, s0 : float, k : float, n : int, dt : float, r : float, u : float, d : float, p : float, q : float, prec : int, type : str):\n",
    "    # iterate over cols (time)\n",
    "    for i in range(n-1, -1, -1):\n",
    "        # dividend idxs have already been identified in the maturity calculation so just have to check for them\n",
    "        # check if div paid at this time step\n",
    "        if idxdiv is not None and i in list(idxdiv.keys()) and i != 0:\n",
    "            # get div amount\n",
    "            div_adj = idxdiv[i]\n",
    "            # # print div adj # # commented out for iterative calling # #\n",
    "            # print(f\"time {i}: dividend adjustment of - ${div_adj}\".center(80))\n",
    "        else:\n",
    "            div_adj = 0\n",
    "        # iterate over rows (price/nodes)\n",
    "        for j in range(i+1, -1, -1):\n",
    "            # fill in stock price at node\n",
    "            stock[i][j-1] = round((s0*(u**j)*(d**(i-j)))-div_adj, prec) # s = s0 x up % ^ # up moves x down % ^ # down moves\n",
    "            # find option price at node by discounting expected value of option price at next (later) time step\n",
    "            tree[i][j-1] = round(np.exp(-r*dt)*(p*tree[i+1][j]+q*tree[i+1][j-1]), prec)\n",
    "            if type.lower() == \"call\":\n",
    "                # check exercise for call (option price vs intrinsic value) \n",
    "                # if max(tree[i][j-1], (stock[i][j-1] - k)) == (stock[i][j-1] - k): # # commented out for iterative calling # #\n",
    "                #     print(f\"time {i}: call exercised @ price ${stock[i][j-1]}\".center(80))\n",
    "                tree[i][j-1] = round(max(tree[i][j-1], (stock[i][j-1] - k)), 2) # max(s - k, 0)\n",
    "            else:\n",
    "                # check exercise for put (option price vs intrinsic value)\n",
    "                # if max(tree[i][j-1], (k - stock[i][j-1])) == (stock[i][j-1] - k): # # commented out for iterative calling # #\n",
    "                #     print(f\"time {i}: put exercised @ price ${stock[i][j-1]}\".center(80))\n",
    "                tree[i][j-1] = round(max(tree[i][j-1], k - stock[i][j-1]), 2) # max(k - s, 0)\n",
    "    return stock, tree"
   ]
  },
  {
   "cell_type": "markdown",
   "metadata": {},
   "source": [
    "#### PRINTING FUNCTIONS"
   ]
  },
  {
   "cell_type": "code",
   "execution_count": 1798,
   "metadata": {},
   "outputs": [],
   "source": [
    "def _print_model(type : str):\n",
    "    # print divider\n",
    "    print(\"-\"*80)\n",
    "    # print model\n",
    "    print((f\"AMERICAN {type.upper()} OPTION - RISK-NEUTRAL BINOMIAL PRICING MODEL\").center(80)) # 56 is len of divider"
   ]
  },
  {
   "cell_type": "code",
   "execution_count": 1799,
   "metadata": {},
   "outputs": [],
   "source": [
    "def _print_stock(stock : list):\n",
    "    # print divider\n",
    "    print(\"-\"*80)\n",
    "    # print header\n",
    "    print(\"STOCK PRICE TREE\".center(80))\n",
    "    # print divider\n",
    "    print(\"-\"*80)\n",
    "    # print price\n",
    "    for time, prices in enumerate(stock, 0):\n",
    "        centered = str(prices).center(65) # 65 is len of divider after time #:\n",
    "        print(f\"time {time}: {centered}\")"
   ]
  },
  {
   "cell_type": "code",
   "execution_count": 1800,
   "metadata": {},
   "outputs": [],
   "source": [
    "def _print_tree(tree : list, type : str):\n",
    "    # print divider\n",
    "    print(\"-\"*80)\n",
    "    # print header\n",
    "    print(f\"{type.upper()} OPTION PRICE TREE\".center(80))\n",
    "    # print divider\n",
    "    print(\"-\"*80)\n",
    "    # print tree\n",
    "    for time, branch in enumerate(tree, 0):\n",
    "        # print centered row\n",
    "        centered = str(branch).center(65) # 65 is len of divider after time #:\n",
    "        print(f\"time {time}: {centered}\")\n",
    "    # print divider\n",
    "    print(\"-\"*80)"
   ]
  },
  {
   "cell_type": "markdown",
   "metadata": {},
   "source": [
    "DOWNLOAD DATA"
   ]
  },
  {
   "cell_type": "code",
   "execution_count": 1801,
   "metadata": {},
   "outputs": [],
   "source": [
    "def _get_hdata(ticker : str, hist : str, end : str):\n",
    "    # check if data is already downloaded\n",
    "    path = '../csvs/spy_historical.csv'\n",
    "    if os.path.isfile(path):\n",
    "        df = pd.read_csv(path)\n",
    "    # otherwise download data\n",
    "    else:\n",
    "        # download data\n",
    "        df = yf.download('SPY', start=hist, end=end)\n",
    "        # save data\n",
    "        df.to_csv(path, header=True)\n",
    "    # set date to datetime\n",
    "    df['Date'] = pd.to_datetime(df['Date'])\n",
    "    # get adj close & convert index\n",
    "    df = df[['Date', 'Adj Close']].rename(columns={'Adj Close':'spy', 'Date':'date'}).set_index('date')\n",
    "    return df"
   ]
  },
  {
   "cell_type": "markdown",
   "metadata": {},
   "source": [
    "#### HISTORICAL VOLATILITY FUNCTION"
   ]
  },
  {
   "cell_type": "code",
   "execution_count": 1802,
   "metadata": {},
   "outputs": [],
   "source": [
    "def _get_hvol(df, hist : str, start : str, prec : int):\n",
    "    # convert dates to datetime\n",
    "    hist, start = pd.to_datetime(hist), pd.to_datetime(start)\n",
    "    # calc historical volatility for window & annualize\n",
    "    return ((df['spy'].pct_change().loc[hist:start]).dropna().std()*np.sqrt(252)).round(prec)"
   ]
  },
  {
   "cell_type": "markdown",
   "metadata": {},
   "source": [
    "#### BINOMIAL PRICING MODEL FOR AMERICAN OPTION USING RISK NEUTRAL PROBABILITY"
   ]
  },
  {
   "cell_type": "code",
   "execution_count": 1803,
   "metadata": {},
   "outputs": [],
   "source": [
    "def binom_rn_pricer(s0 : float, k : float, n : int, t : float, r : float, hvol : float, prec : int, type : str, div : dict):\n",
    "    \"\"\"\n",
    "    s0: initial stock price\n",
    "    k: strike price\n",
    "    n: number of steps\n",
    "    t: time to maturity per annum\n",
    "    r: risk-free rate\n",
    "    hvol: historical volatility - window size = maturity of rfr\n",
    "    maturity: maturity of rate used (e.g, 1-month = 1, 3-month = 3, 6-month = 6, 1-year = 12)\n",
    "    type: option type (call or put)\n",
    "    div: dividend dictionary {start date : pricing date, div1 date : div1 #, div2 date : div2 #, ...}\n",
    "    \"\"\"\n",
    "    # # print model # # commented out for iterative calling # #\n",
    "    # _print_model(type)\n",
    "    # get adjusted & calculated params\n",
    "    t, dt, u, d, p, q = _get_binom_rn_params(n, t, r, hvol, prec)\n",
    "    # initialize option tree\n",
    "    tree = [[0]*(i+1) for i in range(n+1)]\n",
    "    # initialize stock tree\n",
    "    stock = [[0]*(i+1) for i in range(n+1)]\n",
    "    # calc option prices at maturity\n",
    "    stock, tree, idxdiv = _calc_maturity_value(stock, tree, s0, k, n, t, u, d, prec, type, div)\n",
    "    # backpropagate\n",
    "    stock, tree = _back_prop(stock, tree, idxdiv, s0, k, n, dt, r, u, d, p, q, prec, type)\n",
    "    # # print option tree \n",
    "    # _print_tree(tree, type) # # commented out for iterative calling # #\n",
    "    # # print stock price tree\n",
    "    # _print_stock(stock) # # commented out for iterative calling # #\n",
    "    # return price and df\n",
    "    return tree[0][0], stock[0][0], tree, stock"
   ]
  },
  {
   "cell_type": "markdown",
   "metadata": {},
   "source": [
    "#### PRICING TEST"
   ]
  },
  {
   "cell_type": "markdown",
   "metadata": {},
   "source": [
    "THEORETICAL DUMMY DATA"
   ]
  },
  {
   "cell_type": "code",
   "execution_count": 1804,
   "metadata": {},
   "outputs": [],
   "source": [
    "s0 = 100 # market price as of 6/1/23\n",
    "k = 101 # call strike\n",
    "n = 3 # if daily -> biz days to expiration (6/1/23 - 11/17/23) = 122\n",
    "t = 6/12 # tmt per annum\n",
    "r = .05 # 5% per annum\n",
    "hvol = .25 # 10% per annum\n",
    "prec = 2 # precision\n",
    "type = \"call\" # option type\n",
    "div = None # dividend yield"
   ]
  },
  {
   "cell_type": "code",
   "execution_count": 1805,
   "metadata": {},
   "outputs": [
    {
     "name": "stdout",
     "output_type": "stream",
     "text": [
      "--------------------------------------------------------------------------------\n",
      "                             CALL OPTION PRICE TREE                             \n",
      "--------------------------------------------------------------------------------\n",
      "time 0:                               [9.52]                             \n",
      "time 1:                           [11.07, 8.04]                          \n",
      "time 2:                        [0.0, 21.65, 16.73]                       \n",
      "time 3:                      [0.0, 0.0, 9.75, 34.82]                     \n",
      "--------------------------------------------------------------------------------\n",
      "--------------------------------------------------------------------------------\n",
      "                                STOCK PRICE TREE                                \n",
      "--------------------------------------------------------------------------------\n",
      "time 0:                              [100.0]                             \n",
      "time 1:                           [110.75, 90.3]                         \n",
      "time 2:                       [100.0, 122.65, 81.54]                     \n",
      "time 3:                   [73.62, 90.3, 110.75, 135.82]                  \n"
     ]
    }
   ],
   "source": [
    "optprice, stockprice, tree, stock = binom_rn_pricer(s0=s0, k=k, n=n, t=t, r=r, hvol=hvol, prec=prec, type=type, div=div)\n",
    "# print option tree\n",
    "_print_tree(tree, type)\n",
    "# print stock price tree\n",
    "_print_stock(stock)"
   ]
  },
  {
   "cell_type": "markdown",
   "metadata": {},
   "source": [
    "MARKET-LIKE DUMMY DATA"
   ]
  },
  {
   "cell_type": "code",
   "execution_count": 1806,
   "metadata": {},
   "outputs": [],
   "source": [
    "# date params\n",
    "hist = '2022-06-01' # 1 year of historical data\n",
    "start = '2023-06-01' # observation date (i.e, t = 0)\n",
    "end = '2023-11-17' # expiration date (i.e, t = n)\n",
    "# contract params\n",
    "type = \"call\" # option type\n",
    "tdays = np.busday_count(np.datetime64(start), np.datetime64(end))\n",
    "t = tdays / 252 # tmt per annum\n",
    "prec = 2 # precision\n",
    "s0 = 421.82 # market price as of 6/1/23\n",
    "k = 455 # strike\n",
    "n = 6 # number of steps\n",
    "# market params\n",
    "r = .0517 # feed in appropriate rate\n",
    "histdf = _get_hdata('SPY', hist, end) # get historical data\n",
    "hvol = _get_hvol(histdf, hist, start, prec) # get historical volatility\n",
    "div = {start : 0, \"2023-06-16\" : 1.64, \"2023-09-15\" : 1.58} # use ex-dividend dates"
   ]
  },
  {
   "cell_type": "code",
   "execution_count": 1807,
   "metadata": {},
   "outputs": [
    {
     "name": "stdout",
     "output_type": "stream",
     "text": [
      "--------------------------------------------------------------------------------\n",
      "                             CALL OPTION PRICE TREE                             \n",
      "--------------------------------------------------------------------------------\n",
      "time 0:                               [14.4]                             \n",
      "time 1:                           [21.15, 7.21]                          \n",
      "time 2:                         [6.82, 34.54, 7.7]                       \n",
      "time 3:                     [0.0, 13.17, 54.54, 16.1]                    \n",
      "time 4:                  [0.0, 0.0, 25.43, 81.84, 33.69]                 \n",
      "time 5:               [0.0, 0.0, 0.0, 49.11, 112.71, 70.48]              \n",
      "time 6:             [0.0, 0.0, 0.0, 0.0, 20.04, 79.97, 147.46]           \n",
      "--------------------------------------------------------------------------------\n",
      "--------------------------------------------------------------------------------\n",
      "                                STOCK PRICE TREE                                \n",
      "--------------------------------------------------------------------------------\n",
      "time 0:                              [421.82]                            \n",
      "time 1:                          [446.0, 395.85]                         \n",
      "time 2:                      [421.82, 475.04, 374.56]                    \n",
      "time 3:                  [397.49, 447.64, 504.11, 352.96]                \n",
      "time 4:              [372.98, 420.24, 473.46, 533.39, 331.02]            \n",
      "time 5:          [352.96, 397.49, 447.64, 504.11, 567.71, 313.42]        \n",
      "time 6:      [295.34, 332.6, 374.56, 421.82, 475.04, 534.97, 602.46]     \n"
     ]
    }
   ],
   "source": [
    "optprice, stockprice, tree, stock = binom_rn_pricer(s0=s0, k=k, n=n, t=t, r=r, hvol=hvol, prec=prec, type=type, div=div)\n",
    "# print option tree\n",
    "_print_tree(tree, type)\n",
    "# print stock price tree\n",
    "_print_stock(stock)"
   ]
  },
  {
   "cell_type": "markdown",
   "metadata": {},
   "source": [
    "#### READ & PULL DATA"
   ]
  },
  {
   "cell_type": "code",
   "execution_count": 1808,
   "metadata": {},
   "outputs": [],
   "source": [
    "call = pd.read_csv('../csvs/spycall.csv')\n",
    "put = pd.read_csv('../csvs/spyput.csv')"
   ]
  },
  {
   "cell_type": "code",
   "execution_count": 1809,
   "metadata": {},
   "outputs": [],
   "source": [
    "call['date'] = pd.to_datetime(call['date'], format='%m/%d/%y')\n",
    "put['date'] = pd.to_datetime(put['date'], format='%m/%d/%y')\n",
    "call.set_index('date', inplace=True)\n",
    "put.set_index('date', inplace=True)"
   ]
  },
  {
   "cell_type": "markdown",
   "metadata": {},
   "source": [
    "### SENSITIVITY ANALYSIS"
   ]
  },
  {
   "cell_type": "markdown",
   "metadata": {},
   "source": [
    "STEPS"
   ]
  },
  {
   "cell_type": "code",
   "execution_count": 1810,
   "metadata": {},
   "outputs": [],
   "source": [
    "def _pop_varied_steps_prices(df, steps : [int], s0 : float, k : float, tmt : float, rate : float, hvol : float, prec : prec, type : str, div : dict, date):\n",
    "    # convert date to datetime\n",
    "    date = pd.to_datetime(date)\n",
    "    # iterate over steps\n",
    "    for step in steps:\n",
    "        # calc price\n",
    "        optprice, stockprice, tree, stock = binom_rn_pricer(s0=s0, k=k, n=step, t=tmt, r=rate, hvol=hvol, prec=prec, type=type, div=div)\n",
    "        # add to df\n",
    "        df.loc[date, f'{step}price'] = optprice"
   ]
  },
  {
   "cell_type": "markdown",
   "metadata": {},
   "source": [
    "RATES"
   ]
  },
  {
   "cell_type": "code",
   "execution_count": 1811,
   "metadata": {},
   "outputs": [],
   "source": [
    "# def get_rates(df, ratecol : str):\n",
    "#     rates = []\n",
    "#     # get stats\n",
    "#     result = df[ratecol].describe()\n",
    "#     # get testing rates\n",
    "#     for stat, value in result.items():\n",
    "#         # add all stats except count, std, & max\n",
    "#         if stat == 'count' or stat == 'std' or stat == 'max':\n",
    "#             continue\n",
    "#         rates.append(round(value, prec))\n",
    "#     # return rates\n",
    "#     return rates\n",
    "\n",
    "# get_rates(call, 'sofr12m')"
   ]
  },
  {
   "cell_type": "code",
   "execution_count": 1812,
   "metadata": {},
   "outputs": [],
   "source": [
    "def _pop_varied_rates_prices(df, ratecols : [str], s0 : float, k : float, n : int, tmt : float, hvol : float, prec : int, type : str, dic : dict, date):\n",
    "    # convert date to datetime\n",
    "    date = pd.to_datetime(date)\n",
    "    for ratecol in ratecols:\n",
    "        # get rates\n",
    "        rate = np.mean(df[ratecol])/100\n",
    "        # calc price\n",
    "        optprice, stockprice, tree, stock = binom_rn_pricer(s0=s0, k=k, n=n, t=tmt, r=rate, hvol=hvol, prec=prec, type=type, div=div)\n",
    "        # add price to df\n",
    "        df.loc[date, f'{ratecol}price'] = optprice\n"
   ]
  },
  {
   "cell_type": "markdown",
   "metadata": {},
   "source": [
    "HISTORICAL VOL TIME WINDOWS & IV"
   ]
  },
  {
   "cell_type": "code",
   "execution_count": 1813,
   "metadata": {},
   "outputs": [
    {
     "name": "stdout",
     "output_type": "stream",
     "text": [
      "{'hvol6': '2022-11-24', 'hvol3': '2023-02-21', 'hvol1': '2023-04-20', 'ivol': '2023-06-01'}\n"
     ]
    }
   ],
   "source": [
    "def _get_vol_dates(hist : str, start : str):\n",
    "    # get last 6 months, last 3 months, and last 1 month\n",
    "    hvol6 = np.busday_offset(hist, 6*21, roll='forward') # forward = next biz days for non-biz day calc\n",
    "    hvol3 = np.busday_offset(hist, 9*21, roll='forward')\n",
    "    hvol1 = np.busday_offset(hist, 11*21, roll='forward')\n",
    "    # swith to datetime for string conversion\n",
    "    hvol6 = hvol6.astype(datetime)\n",
    "    hvol3 = hvol3.astype(datetime)\n",
    "    hvol1 = hvol1.astype(datetime)\n",
    "    # add string versions to dict\n",
    "    vols = {'hvol6' : hvol6.strftime('%Y-%m-%d'), 'hvol3' : hvol3.strftime('%Y-%m-%d'), 'hvol1' : hvol1.strftime('%Y-%m-%d'), 'ivol' : start}\n",
    "    return vols\n",
    "print(_get_vol_dates(hist, start))"
   ]
  },
  {
   "cell_type": "markdown",
   "metadata": {},
   "source": [
    "POPULATE THE DF W/ PRICES FROM VARIED PARAMS"
   ]
  },
  {
   "cell_type": "code",
   "execution_count": 1814,
   "metadata": {},
   "outputs": [],
   "source": [
    "def _pop_varied_vol_prices(df, hist : str, start : str, s0 : float, k : float, tmt : float, rate : float, prec : int, type : str, div : dict):\n",
    "    hvols = _get_hvol_dates(hist, start)\n",
    "    for volw, date in hvols.items():\n",
    "        # convert date to datetime for indexing\n",
    "        dtdate = pd.to_datetime(date)\n",
    "        # if using ivol, pull from observation day\n",
    "        if volw == 'ivol':\n",
    "            vol = df[dtdate]['iv']\n",
    "        else:    \n",
    "            # get hvol for date window\n",
    "            vol = _get_hvol(histdf, date, start, prec)\n",
    "        # price\n",
    "        optprice, stockprice, tree, stock = binom_rn_pricer(s0=s0, k=k, n=n, t=tmt, r=rate, hvol=vol, prec=prec, type=type, div=div)\n",
    "        # add price to df\n",
    "        df.loc[dtdate, f'{volw}price'] = optprice"
   ]
  },
  {
   "cell_type": "markdown",
   "metadata": {},
   "source": [
    "PRICE TREE PARAMETERS USING HISTORICAL CALIBRATION"
   ]
  },
  {
   "cell_type": "code",
   "execution_count": 1815,
   "metadata": {},
   "outputs": [],
   "source": [
    "def _calculate_up_down_params(df):\n",
    "    # get returns\n",
    "    returns = df['spy'].pct_change().dropna()\n",
    "    # get up & down moves\n",
    "    up_moves = returns[returns > 0]\n",
    "    down_moves = returns[returns < 0]\n",
    "    # calc params\n",
    "    avg_up = up_moves.mean()\n",
    "    avg_down = down_moves.mean()\n",
    "\n",
    "    p_up = len(up_moves) / len(returns)\n",
    "    p_down = len(down_moves) / len(returns)\n",
    "\n",
    "    return avg_up, avg_down, p_up, p_down\n"
   ]
  },
  {
   "cell_type": "markdown",
   "metadata": {},
   "source": [
    "ITERATE OVER TIME FUNCTION"
   ]
  },
  {
   "cell_type": "code",
   "execution_count": 1816,
   "metadata": {},
   "outputs": [],
   "source": [
    "def _pop_price_over_time(calldf, putdf, s0 : float, k : float, n : int, r : float, hvol : float, prec : int, div : dict, ratecols : [str], steps : [int], hist : str, start : str, end : str):\n",
    "    for idxdate in calldf.index:\n",
    "        datestr = idxdate.strftime('%Y-%m-%d')\n",
    "        # stop pricing dat b4 end date\n",
    "        if datestr == end:\n",
    "            break\n",
    "        # get time to maturity\n",
    "        bizdays = np.busday_count(np.datetime64(datestr), np.datetime64(end))\n",
    "        tmt = bizdays / 252\n",
    "        # fill in base price\n",
    "        optprice, _, _, _ = binom_rn_pricer(s0=s0, k=k, n=n, t=tmt, r=rate, hvol=hvol, prec=prec, type=\"call\", div=div)\n",
    "        calldf.loc[idxdate, 'baseprice'] = optprice\n",
    "        optprice, _, _, _ = binom_rn_pricer(s0=s0, k=k, n=n, t=tmt, r=rate, hvol=hvol, prec=prec, type=\"put\", div=div)\n",
    "        putdf.loc[idxdate, 'baseprice'] = optprice\n",
    "\n",
    "        # fill in varied steps prices\n",
    "        _pop_varied_steps_prices(calldf, steps, s0, k, tmt, r, hvol, prec, \"call\", div, datestr)\n",
    "        _pop_varied_steps_prices(putdf, steps, s0, k, tmt, r, hvol, prec, \"put\", div, datestr)\n",
    "        # fill in varied rates prices\n",
    "        _pop_varied_rates_prices(calldf, ratecols, s0, k, n, tmt, hvol, prec, \"call\", div, datestr)\n",
    "        _pop_varied_rates_prices(putdf, ratecols, s0, k, n, tmt, hvol, prec, \"put\", div, datestr)\n",
    "        # fill in historical vol & ivol varied prices\n",
    "        _pop_varied_vol_prices(calldf, hist, start, s0, k, tmt, r, prec, \"call\", div)\n",
    "        _pop_varied_vol_prices(putdf, hist, start, s0, k, tmt, r, prec, \"put\", div)\n",
    "        print(f'{datestr} complete')\n",
    "    return calldf, putdf\n"
   ]
  },
  {
   "cell_type": "markdown",
   "metadata": {},
   "source": [
    "### RUN SENSITIVITY ANALYSIS"
   ]
  },
  {
   "cell_type": "markdown",
   "metadata": {},
   "source": [
    "PARAMS SPECIFIED FOR RUNS WHERE ALL OTHER HELD CONSTANT"
   ]
  },
  {
   "cell_type": "code",
   "execution_count": 1817,
   "metadata": {},
   "outputs": [],
   "source": [
    "# time params\n",
    "hist = '2022-06-01' # 1 year of historical data\n",
    "t0 = '2023-06-01' # observation date (i.e, t = 0)\n",
    "end = '2023-11-17' # expiration date (i.e, t = n)\n",
    "# market params\n",
    "rate = call['sofr12m'].loc[datetime(2023, 6, 1, 0, 0)]/100  # get t = 0 rate\n",
    "histdf = _get_hdata('SPY', hist, end) # get historical data\n",
    "hvol = _get_hvol(histdf, hist, t0, prec) # get 1yr historical volatility\n",
    "div = {start : 0, \"2023-06-16\" : 1.64, \"2023-09-15\" : 1.58} # use ex-dividend dates\n",
    "# contract params\n",
    "type = \"call\" # option type\n",
    "tdays = np.busday_count(np.datetime64(t0), np.datetime64(end))\n",
    "t = tdays / 252 # tmt per annum\n",
    "s0 = 421.82 # market price as of 6/1/23\n",
    "k = 455 # strike\n",
    "n = 6 # steps\n",
    "prec = 2 # precision"
   ]
  },
  {
   "cell_type": "markdown",
   "metadata": {},
   "source": [
    "VARIED PARAMS"
   ]
  },
  {
   "cell_type": "code",
   "execution_count": 1818,
   "metadata": {},
   "outputs": [],
   "source": [
    "steps = [10, 20, 30, 40, 50, 60, 70, 80, 90, 100, 110]\n",
    "ratecols = ['sofr12m', 'sofr6m', 'sofr3m', 'sofr1m']"
   ]
  },
  {
   "cell_type": "code",
   "execution_count": 1819,
   "metadata": {},
   "outputs": [
    {
     "name": "stdout",
     "output_type": "stream",
     "text": [
      "2023-06-01 complete\n",
      "2023-06-02 complete\n",
      "2023-06-05 complete\n",
      "2023-06-06 complete\n",
      "2023-06-07 complete\n",
      "2023-06-08 complete\n",
      "2023-06-09 complete\n",
      "2023-06-12 complete\n",
      "2023-06-13 complete\n",
      "2023-06-14 complete\n",
      "2023-06-15 complete\n",
      "2023-06-16 complete\n",
      "2023-06-20 complete\n",
      "2023-06-21 complete\n",
      "2023-06-22 complete\n",
      "2023-06-23 complete\n",
      "2023-06-26 complete\n",
      "2023-06-27 complete\n",
      "2023-06-28 complete\n",
      "2023-06-29 complete\n",
      "2023-06-30 complete\n",
      "2023-07-03 complete\n",
      "2023-07-05 complete\n",
      "2023-07-06 complete\n",
      "2023-07-07 complete\n",
      "2023-07-10 complete\n",
      "2023-07-11 complete\n",
      "2023-07-12 complete\n",
      "2023-07-13 complete\n",
      "2023-07-14 complete\n",
      "2023-07-17 complete\n",
      "2023-07-18 complete\n",
      "2023-07-19 complete\n",
      "2023-07-20 complete\n",
      "2023-07-21 complete\n",
      "2023-07-24 complete\n",
      "2023-07-25 complete\n",
      "2023-07-26 complete\n",
      "2023-07-27 complete\n",
      "2023-07-28 complete\n",
      "2023-07-31 complete\n",
      "2023-08-01 complete\n",
      "2023-08-02 complete\n",
      "2023-08-03 complete\n",
      "2023-08-04 complete\n",
      "2023-08-07 complete\n",
      "2023-08-08 complete\n",
      "2023-08-09 complete\n",
      "2023-08-10 complete\n",
      "2023-08-11 complete\n",
      "2023-08-14 complete\n",
      "2023-08-15 complete\n",
      "2023-08-16 complete\n",
      "2023-08-17 complete\n",
      "2023-08-18 complete\n",
      "2023-08-21 complete\n",
      "2023-08-22 complete\n",
      "2023-08-23 complete\n",
      "2023-08-24 complete\n",
      "2023-08-25 complete\n",
      "2023-08-28 complete\n",
      "2023-08-29 complete\n",
      "2023-08-30 complete\n",
      "2023-08-31 complete\n",
      "2023-09-01 complete\n",
      "2023-09-05 complete\n",
      "2023-09-06 complete\n",
      "2023-09-07 complete\n",
      "2023-09-08 complete\n",
      "2023-09-11 complete\n",
      "2023-09-12 complete\n",
      "2023-09-13 complete\n",
      "2023-09-14 complete\n",
      "2023-09-15 complete\n",
      "2023-09-18 complete\n",
      "2023-09-19 complete\n",
      "2023-09-20 complete\n",
      "2023-09-21 complete\n",
      "2023-09-22 complete\n",
      "2023-09-25 complete\n",
      "2023-09-26 complete\n",
      "2023-09-27 complete\n",
      "2023-09-28 complete\n",
      "2023-09-29 complete\n",
      "2023-10-02 complete\n",
      "2023-10-03 complete\n",
      "2023-10-04 complete\n",
      "2023-10-05 complete\n",
      "2023-10-06 complete\n",
      "2023-10-09 complete\n",
      "2023-10-10 complete\n",
      "2023-10-11 complete\n",
      "2023-10-12 complete\n",
      "2023-10-13 complete\n",
      "2023-10-16 complete\n",
      "2023-10-17 complete\n",
      "2023-10-18 complete\n",
      "2023-10-19 complete\n",
      "2023-10-20 complete\n",
      "2023-10-23 complete\n",
      "2023-10-24 complete\n",
      "2023-10-25 complete\n",
      "2023-10-26 complete\n",
      "2023-10-27 complete\n",
      "2023-10-30 complete\n",
      "2023-10-31 complete\n",
      "2023-11-01 complete\n",
      "2023-11-02 complete\n",
      "2023-11-03 complete\n",
      "2023-11-06 complete\n",
      "2023-11-07 complete\n",
      "2023-11-08 complete\n",
      "2023-11-09 complete\n",
      "2023-11-10 complete\n",
      "2023-11-13 complete\n",
      "2023-11-14 complete\n",
      "2023-11-15 complete\n",
      "2023-11-16 complete\n"
     ]
    }
   ],
   "source": [
    "call, put = _pop_price_over_time(call, put, s0, k, n, rate, hvol, prec, div, ratecols, steps, hist, t0, end)"
   ]
  },
  {
   "cell_type": "code",
   "execution_count": 1822,
   "metadata": {},
   "outputs": [
    {
     "data": {
      "text/html": [
       "<div>\n",
       "<style scoped>\n",
       "    .dataframe tbody tr th:only-of-type {\n",
       "        vertical-align: middle;\n",
       "    }\n",
       "\n",
       "    .dataframe tbody tr th {\n",
       "        vertical-align: top;\n",
       "    }\n",
       "\n",
       "    .dataframe thead th {\n",
       "        text-align: right;\n",
       "    }\n",
       "</style>\n",
       "<table border=\"1\" class=\"dataframe\">\n",
       "  <thead>\n",
       "    <tr style=\"text-align: right;\">\n",
       "      <th></th>\n",
       "      <th>call</th>\n",
       "      <th>spy</th>\n",
       "      <th>iv</th>\n",
       "      <th>sofr1m</th>\n",
       "      <th>sofr1m50</th>\n",
       "      <th>sofr3m</th>\n",
       "      <th>sofr3m50</th>\n",
       "      <th>sofr3m200</th>\n",
       "      <th>sofr6m</th>\n",
       "      <th>sofr6m50</th>\n",
       "      <th>...</th>\n",
       "      <th>90price</th>\n",
       "      <th>100price</th>\n",
       "      <th>110price</th>\n",
       "      <th>sofr12mprice</th>\n",
       "      <th>sofr6mprice</th>\n",
       "      <th>sofr3mprice</th>\n",
       "      <th>sofr1mprice</th>\n",
       "      <th>hvol6price</th>\n",
       "      <th>hvol3price</th>\n",
       "      <th>hvol1price</th>\n",
       "    </tr>\n",
       "    <tr>\n",
       "      <th>date</th>\n",
       "      <th></th>\n",
       "      <th></th>\n",
       "      <th></th>\n",
       "      <th></th>\n",
       "      <th></th>\n",
       "      <th></th>\n",
       "      <th></th>\n",
       "      <th></th>\n",
       "      <th></th>\n",
       "      <th></th>\n",
       "      <th></th>\n",
       "      <th></th>\n",
       "      <th></th>\n",
       "      <th></th>\n",
       "      <th></th>\n",
       "      <th></th>\n",
       "      <th></th>\n",
       "      <th></th>\n",
       "      <th></th>\n",
       "      <th></th>\n",
       "      <th></th>\n",
       "    </tr>\n",
       "  </thead>\n",
       "  <tbody>\n",
       "    <tr>\n",
       "      <th>2023-06-01</th>\n",
       "      <td>5.46</td>\n",
       "      <td>421.82</td>\n",
       "      <td>12.576</td>\n",
       "      <td>5.17424</td>\n",
       "      <td>4.97660</td>\n",
       "      <td>5.27638</td>\n",
       "      <td>5.04878</td>\n",
       "      <td>4.4049</td>\n",
       "      <td>5.28528</td>\n",
       "      <td>5.02599</td>\n",
       "      <td>...</td>\n",
       "      <td>15.31</td>\n",
       "      <td>15.36</td>\n",
       "      <td>15.43</td>\n",
       "      <td>14.47</td>\n",
       "      <td>14.50</td>\n",
       "      <td>14.47</td>\n",
       "      <td>14.44</td>\n",
       "      <td>NaN</td>\n",
       "      <td>NaN</td>\n",
       "      <td>NaN</td>\n",
       "    </tr>\n",
       "    <tr>\n",
       "      <th>2023-06-02</th>\n",
       "      <td>7.45</td>\n",
       "      <td>427.92</td>\n",
       "      <td>12.570</td>\n",
       "      <td>5.14067</td>\n",
       "      <td>4.98357</td>\n",
       "      <td>5.23034</td>\n",
       "      <td>5.05543</td>\n",
       "      <td>4.4174</td>\n",
       "      <td>5.24547</td>\n",
       "      <td>5.03324</td>\n",
       "      <td>...</td>\n",
       "      <td>15.19</td>\n",
       "      <td>15.25</td>\n",
       "      <td>15.29</td>\n",
       "      <td>14.36</td>\n",
       "      <td>14.39</td>\n",
       "      <td>14.36</td>\n",
       "      <td>14.34</td>\n",
       "      <td>NaN</td>\n",
       "      <td>NaN</td>\n",
       "      <td>NaN</td>\n",
       "    </tr>\n",
       "    <tr>\n",
       "      <th>2023-06-05</th>\n",
       "      <td>7.67</td>\n",
       "      <td>427.10</td>\n",
       "      <td>12.515</td>\n",
       "      <td>5.15002</td>\n",
       "      <td>4.99045</td>\n",
       "      <td>5.25323</td>\n",
       "      <td>5.06296</td>\n",
       "      <td>4.4300</td>\n",
       "      <td>5.28773</td>\n",
       "      <td>5.04310</td>\n",
       "      <td>...</td>\n",
       "      <td>15.06</td>\n",
       "      <td>15.14</td>\n",
       "      <td>15.20</td>\n",
       "      <td>14.26</td>\n",
       "      <td>14.28</td>\n",
       "      <td>14.26</td>\n",
       "      <td>14.23</td>\n",
       "      <td>NaN</td>\n",
       "      <td>NaN</td>\n",
       "      <td>NaN</td>\n",
       "    </tr>\n",
       "    <tr>\n",
       "      <th>2023-06-06</th>\n",
       "      <td>6.64</td>\n",
       "      <td>428.03</td>\n",
       "      <td>12.160</td>\n",
       "      <td>5.13842</td>\n",
       "      <td>4.99740</td>\n",
       "      <td>5.23884</td>\n",
       "      <td>5.07160</td>\n",
       "      <td>4.4424</td>\n",
       "      <td>5.27695</td>\n",
       "      <td>5.05544</td>\n",
       "      <td>...</td>\n",
       "      <td>14.92</td>\n",
       "      <td>15.01</td>\n",
       "      <td>15.07</td>\n",
       "      <td>14.15</td>\n",
       "      <td>14.19</td>\n",
       "      <td>14.15</td>\n",
       "      <td>14.13</td>\n",
       "      <td>NaN</td>\n",
       "      <td>NaN</td>\n",
       "      <td>NaN</td>\n",
       "    </tr>\n",
       "    <tr>\n",
       "      <th>2023-06-07</th>\n",
       "      <td>6.64</td>\n",
       "      <td>426.55</td>\n",
       "      <td>11.923</td>\n",
       "      <td>5.13117</td>\n",
       "      <td>5.00385</td>\n",
       "      <td>5.23808</td>\n",
       "      <td>5.07854</td>\n",
       "      <td>4.4546</td>\n",
       "      <td>5.27788</td>\n",
       "      <td>5.06426</td>\n",
       "      <td>...</td>\n",
       "      <td>14.79</td>\n",
       "      <td>14.88</td>\n",
       "      <td>14.93</td>\n",
       "      <td>14.05</td>\n",
       "      <td>14.08</td>\n",
       "      <td>14.05</td>\n",
       "      <td>14.02</td>\n",
       "      <td>NaN</td>\n",
       "      <td>NaN</td>\n",
       "      <td>NaN</td>\n",
       "    </tr>\n",
       "  </tbody>\n",
       "</table>\n",
       "<p>5 rows × 33 columns</p>\n",
       "</div>"
      ],
      "text/plain": [
       "            call     spy      iv   sofr1m  sofr1m50   sofr3m  sofr3m50  \\\n",
       "date                                                                     \n",
       "2023-06-01  5.46  421.82  12.576  5.17424   4.97660  5.27638   5.04878   \n",
       "2023-06-02  7.45  427.92  12.570  5.14067   4.98357  5.23034   5.05543   \n",
       "2023-06-05  7.67  427.10  12.515  5.15002   4.99045  5.25323   5.06296   \n",
       "2023-06-06  6.64  428.03  12.160  5.13842   4.99740  5.23884   5.07160   \n",
       "2023-06-07  6.64  426.55  11.923  5.13117   5.00385  5.23808   5.07854   \n",
       "\n",
       "            sofr3m200   sofr6m  sofr6m50  ...  90price  100price  110price  \\\n",
       "date                                      ...                                \n",
       "2023-06-01     4.4049  5.28528   5.02599  ...    15.31     15.36     15.43   \n",
       "2023-06-02     4.4174  5.24547   5.03324  ...    15.19     15.25     15.29   \n",
       "2023-06-05     4.4300  5.28773   5.04310  ...    15.06     15.14     15.20   \n",
       "2023-06-06     4.4424  5.27695   5.05544  ...    14.92     15.01     15.07   \n",
       "2023-06-07     4.4546  5.27788   5.06426  ...    14.79     14.88     14.93   \n",
       "\n",
       "            sofr12mprice  sofr6mprice  sofr3mprice  sofr1mprice  hvol6price  \\\n",
       "date                                                                          \n",
       "2023-06-01         14.47        14.50        14.47        14.44         NaN   \n",
       "2023-06-02         14.36        14.39        14.36        14.34         NaN   \n",
       "2023-06-05         14.26        14.28        14.26        14.23         NaN   \n",
       "2023-06-06         14.15        14.19        14.15        14.13         NaN   \n",
       "2023-06-07         14.05        14.08        14.05        14.02         NaN   \n",
       "\n",
       "            hvol3price  hvol1price  \n",
       "date                                \n",
       "2023-06-01         NaN         NaN  \n",
       "2023-06-02         NaN         NaN  \n",
       "2023-06-05         NaN         NaN  \n",
       "2023-06-06         NaN         NaN  \n",
       "2023-06-07         NaN         NaN  \n",
       "\n",
       "[5 rows x 33 columns]"
      ]
     },
     "execution_count": 1822,
     "metadata": {},
     "output_type": "execute_result"
    }
   ],
   "source": [
    "call.head()"
   ]
  },
  {
   "cell_type": "code",
   "execution_count": 1824,
   "metadata": {},
   "outputs": [],
   "source": [
    "call.to_csv('../csvs/spycall_priced.csv', index=False)\n",
    "put.to_csv('../csvs/spyput_priced.csv', index=False)"
   ]
  },
  {
   "cell_type": "markdown",
   "metadata": {},
   "source": [
    "- check pricing model (iterate through each day from t=1 to t=T pricing using that day's tmt & s0 (feed in daily rate but run on different sofrs] to see how tmt & rate affects accuracy)\n",
    "- plot both model's stock prices vs market, model's option prices vs market, \n",
    "- run sensitivty analysis and save results for graphs"
   ]
  },
  {
   "cell_type": "markdown",
   "metadata": {},
   "source": [
    "GRAPHING FUNCTION"
   ]
  },
  {
   "cell_type": "code",
   "execution_count": 1820,
   "metadata": {},
   "outputs": [],
   "source": [
    "def plot_xy(x, y, title, x_label, y_label, legend_label=None):\n",
    "    color_rgb = (128, 0, 0)\n",
    "    color_normalized = tuple(c / 255 for c in color_rgb)\n",
    "\n",
    "    plt.figure(figsize=(10, 6))\n",
    "    plt.plot(x, y, linestyle='-', color=color_normalized, label=legend_label)\n",
    "\n",
    "    plt.title(title)\n",
    "    plt.xlabel(x_label)\n",
    "    plt.ylabel(y_label)\n",
    "    plt.grid(True)\n",
    "    \n",
    "    if legend_label:\n",
    "        plt.legend()\n",
    "\n",
    "    plt.show()\n",
    "    \n",
    "# df['Date'] = pd.to_datetime(df['Date'])\n",
    "# plot_xy(df['Date'], df['Option Gamma'],title='Option Gamma Time Series', x_label='Date', y_label='Option Gamma', legend_label='Option Gamma')"
   ]
  }
 ],
 "metadata": {
  "kernelspec": {
   "display_name": "Python 3",
   "language": "python",
   "name": "python3"
  },
  "language_info": {
   "codemirror_mode": {
    "name": "ipython",
    "version": 3
   },
   "file_extension": ".py",
   "mimetype": "text/x-python",
   "name": "python",
   "nbconvert_exporter": "python",
   "pygments_lexer": "ipython3",
   "version": "3.9.6"
  }
 },
 "nbformat": 4,
 "nbformat_minor": 2
}
